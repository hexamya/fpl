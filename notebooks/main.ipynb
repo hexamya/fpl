{
 "cells": [
  {
   "cell_type": "code",
   "outputs": [],
   "source": [
    "import pandas as pd"
   ],
   "metadata": {
    "collapsed": false,
    "ExecuteTime": {
     "end_time": "2024-03-19T18:54:18.307742Z",
     "start_time": "2024-03-19T18:54:10.035763Z"
    }
   },
   "execution_count": 1
  },
  {
   "cell_type": "code",
   "outputs": [
    {
     "data": {
      "text/plain": "   player  player_name  assists  bonus  bps  clean_sheets  creativity  \\\n0       0  A.Armstrong        0      0   25             0         0.0   \n1       0  A.Armstrong        0      0    0             0         0.0   \n2       0  A.Armstrong        0      0    3             0         1.2   \n3       0  A.Armstrong        0      0    8             0        10.3   \n4       0  A.Armstrong        0      0    2             0         0.0   \n\n   element  expected_assists  expected_goal_involvements  ...  loaned_in  \\\n0      408               0.0                        0.12  ...        NaN   \n1      408               0.0                        0.00  ...        NaN   \n2      408               0.0                        0.00  ...        NaN   \n3      408               0.0                        0.10  ...        NaN   \n4      408               0.0                        0.00  ...        NaN   \n\n   loaned_out  offside  open_play_crosses  penalties_conceded  recoveries  \\\n0         NaN      NaN                NaN                 NaN         NaN   \n1         NaN      NaN                NaN                 NaN         NaN   \n2         NaN      NaN                NaN                 NaN         NaN   \n3         NaN      NaN                NaN                 NaN         NaN   \n4         NaN      NaN                NaN                 NaN         NaN   \n\n   tackled tackles  target_missed  winning_goals  \n0      NaN     NaN            NaN            NaN  \n1      NaN     NaN            NaN            NaN  \n2      NaN     NaN            NaN            NaN  \n3      NaN     NaN            NaN            NaN  \n4      NaN     NaN            NaN            NaN  \n\n[5 rows x 65 columns]",
      "text/html": "<div>\n<style scoped>\n    .dataframe tbody tr th:only-of-type {\n        vertical-align: middle;\n    }\n\n    .dataframe tbody tr th {\n        vertical-align: top;\n    }\n\n    .dataframe thead th {\n        text-align: right;\n    }\n</style>\n<table border=\"1\" class=\"dataframe\">\n  <thead>\n    <tr style=\"text-align: right;\">\n      <th></th>\n      <th>player</th>\n      <th>player_name</th>\n      <th>assists</th>\n      <th>bonus</th>\n      <th>bps</th>\n      <th>clean_sheets</th>\n      <th>creativity</th>\n      <th>element</th>\n      <th>expected_assists</th>\n      <th>expected_goal_involvements</th>\n      <th>...</th>\n      <th>loaned_in</th>\n      <th>loaned_out</th>\n      <th>offside</th>\n      <th>open_play_crosses</th>\n      <th>penalties_conceded</th>\n      <th>recoveries</th>\n      <th>tackled</th>\n      <th>tackles</th>\n      <th>target_missed</th>\n      <th>winning_goals</th>\n    </tr>\n  </thead>\n  <tbody>\n    <tr>\n      <th>0</th>\n      <td>0</td>\n      <td>A.Armstrong</td>\n      <td>0</td>\n      <td>0</td>\n      <td>25</td>\n      <td>0</td>\n      <td>0.0</td>\n      <td>408</td>\n      <td>0.0</td>\n      <td>0.12</td>\n      <td>...</td>\n      <td>NaN</td>\n      <td>NaN</td>\n      <td>NaN</td>\n      <td>NaN</td>\n      <td>NaN</td>\n      <td>NaN</td>\n      <td>NaN</td>\n      <td>NaN</td>\n      <td>NaN</td>\n      <td>NaN</td>\n    </tr>\n    <tr>\n      <th>1</th>\n      <td>0</td>\n      <td>A.Armstrong</td>\n      <td>0</td>\n      <td>0</td>\n      <td>0</td>\n      <td>0</td>\n      <td>0.0</td>\n      <td>408</td>\n      <td>0.0</td>\n      <td>0.00</td>\n      <td>...</td>\n      <td>NaN</td>\n      <td>NaN</td>\n      <td>NaN</td>\n      <td>NaN</td>\n      <td>NaN</td>\n      <td>NaN</td>\n      <td>NaN</td>\n      <td>NaN</td>\n      <td>NaN</td>\n      <td>NaN</td>\n    </tr>\n    <tr>\n      <th>2</th>\n      <td>0</td>\n      <td>A.Armstrong</td>\n      <td>0</td>\n      <td>0</td>\n      <td>3</td>\n      <td>0</td>\n      <td>1.2</td>\n      <td>408</td>\n      <td>0.0</td>\n      <td>0.00</td>\n      <td>...</td>\n      <td>NaN</td>\n      <td>NaN</td>\n      <td>NaN</td>\n      <td>NaN</td>\n      <td>NaN</td>\n      <td>NaN</td>\n      <td>NaN</td>\n      <td>NaN</td>\n      <td>NaN</td>\n      <td>NaN</td>\n    </tr>\n    <tr>\n      <th>3</th>\n      <td>0</td>\n      <td>A.Armstrong</td>\n      <td>0</td>\n      <td>0</td>\n      <td>8</td>\n      <td>0</td>\n      <td>10.3</td>\n      <td>408</td>\n      <td>0.0</td>\n      <td>0.10</td>\n      <td>...</td>\n      <td>NaN</td>\n      <td>NaN</td>\n      <td>NaN</td>\n      <td>NaN</td>\n      <td>NaN</td>\n      <td>NaN</td>\n      <td>NaN</td>\n      <td>NaN</td>\n      <td>NaN</td>\n      <td>NaN</td>\n    </tr>\n    <tr>\n      <th>4</th>\n      <td>0</td>\n      <td>A.Armstrong</td>\n      <td>0</td>\n      <td>0</td>\n      <td>2</td>\n      <td>0</td>\n      <td>0.0</td>\n      <td>408</td>\n      <td>0.0</td>\n      <td>0.00</td>\n      <td>...</td>\n      <td>NaN</td>\n      <td>NaN</td>\n      <td>NaN</td>\n      <td>NaN</td>\n      <td>NaN</td>\n      <td>NaN</td>\n      <td>NaN</td>\n      <td>NaN</td>\n      <td>NaN</td>\n      <td>NaN</td>\n    </tr>\n  </tbody>\n</table>\n<p>5 rows × 65 columns</p>\n</div>"
     },
     "execution_count": 2,
     "metadata": {},
     "output_type": "execute_result"
    }
   ],
   "source": [
    "players = pd.read_json(\"../data/jsons/players_data.json\")\n",
    "players.head()"
   ],
   "metadata": {
    "collapsed": false,
    "ExecuteTime": {
     "end_time": "2024-03-19T18:55:57.493170Z",
     "start_time": "2024-03-19T18:54:18.313217Z"
    }
   },
   "execution_count": 2
  },
  {
   "cell_type": "code",
   "outputs": [
    {
     "data": {
      "text/plain": "    season  assists  bonus  bps chance_of_playing_next_round  \\\n0  2016-17        0      0   18                          100   \n1  2016-17        0      2  660                          100   \n2  2016-17        1     19  723                            0   \n3  2016-17        0      0    5                          100   \n4  2016-17        0      2  296                           75   \n\n  chance_of_playing_this_round  clean_sheets    code  cost_change_event  \\\n0                          100             0   48844                  0   \n1                          100            12   11334                  0   \n2                           75            10   51507                  0   \n3                          100             0   17127                  0   \n4                          100             5  158074                  0   \n\n   cost_change_event_fall  ...  now_cost_rank  now_cost_rank_type  \\\n0                       0  ...            NaN                 NaN   \n1                       0  ...            NaN                 NaN   \n2                       0  ...            NaN                 NaN   \n3                       0  ...            NaN                 NaN   \n4                       0  ...            NaN                 NaN   \n\n   points_per_game_rank  points_per_game_rank_type  saves_per_90  \\\n0                   NaN                        NaN           NaN   \n1                   NaN                        NaN           NaN   \n2                   NaN                        NaN           NaN   \n3                   NaN                        NaN           NaN   \n4                   NaN                        NaN           NaN   \n\n   selected_rank selected_rank_type  starts  starts_per_90 points_per_90  \n0            NaN                NaN     NaN            NaN           NaN  \n1            NaN                NaN     NaN            NaN           NaN  \n2            NaN                NaN     NaN            NaN           NaN  \n3            NaN                NaN     NaN            NaN           NaN  \n4            NaN                NaN     NaN            NaN           NaN  \n\n[5 rows x 98 columns]",
      "text/html": "<div>\n<style scoped>\n    .dataframe tbody tr th:only-of-type {\n        vertical-align: middle;\n    }\n\n    .dataframe tbody tr th {\n        vertical-align: top;\n    }\n\n    .dataframe thead th {\n        text-align: right;\n    }\n</style>\n<table border=\"1\" class=\"dataframe\">\n  <thead>\n    <tr style=\"text-align: right;\">\n      <th></th>\n      <th>season</th>\n      <th>assists</th>\n      <th>bonus</th>\n      <th>bps</th>\n      <th>chance_of_playing_next_round</th>\n      <th>chance_of_playing_this_round</th>\n      <th>clean_sheets</th>\n      <th>code</th>\n      <th>cost_change_event</th>\n      <th>cost_change_event_fall</th>\n      <th>...</th>\n      <th>now_cost_rank</th>\n      <th>now_cost_rank_type</th>\n      <th>points_per_game_rank</th>\n      <th>points_per_game_rank_type</th>\n      <th>saves_per_90</th>\n      <th>selected_rank</th>\n      <th>selected_rank_type</th>\n      <th>starts</th>\n      <th>starts_per_90</th>\n      <th>points_per_90</th>\n    </tr>\n  </thead>\n  <tbody>\n    <tr>\n      <th>0</th>\n      <td>2016-17</td>\n      <td>0</td>\n      <td>0</td>\n      <td>18</td>\n      <td>100</td>\n      <td>100</td>\n      <td>0</td>\n      <td>48844</td>\n      <td>0</td>\n      <td>0</td>\n      <td>...</td>\n      <td>NaN</td>\n      <td>NaN</td>\n      <td>NaN</td>\n      <td>NaN</td>\n      <td>NaN</td>\n      <td>NaN</td>\n      <td>NaN</td>\n      <td>NaN</td>\n      <td>NaN</td>\n      <td>NaN</td>\n    </tr>\n    <tr>\n      <th>1</th>\n      <td>2016-17</td>\n      <td>0</td>\n      <td>2</td>\n      <td>660</td>\n      <td>100</td>\n      <td>100</td>\n      <td>12</td>\n      <td>11334</td>\n      <td>0</td>\n      <td>0</td>\n      <td>...</td>\n      <td>NaN</td>\n      <td>NaN</td>\n      <td>NaN</td>\n      <td>NaN</td>\n      <td>NaN</td>\n      <td>NaN</td>\n      <td>NaN</td>\n      <td>NaN</td>\n      <td>NaN</td>\n      <td>NaN</td>\n    </tr>\n    <tr>\n      <th>2</th>\n      <td>2016-17</td>\n      <td>1</td>\n      <td>19</td>\n      <td>723</td>\n      <td>0</td>\n      <td>75</td>\n      <td>10</td>\n      <td>51507</td>\n      <td>0</td>\n      <td>0</td>\n      <td>...</td>\n      <td>NaN</td>\n      <td>NaN</td>\n      <td>NaN</td>\n      <td>NaN</td>\n      <td>NaN</td>\n      <td>NaN</td>\n      <td>NaN</td>\n      <td>NaN</td>\n      <td>NaN</td>\n      <td>NaN</td>\n    </tr>\n    <tr>\n      <th>3</th>\n      <td>2016-17</td>\n      <td>0</td>\n      <td>0</td>\n      <td>5</td>\n      <td>100</td>\n      <td>100</td>\n      <td>0</td>\n      <td>17127</td>\n      <td>0</td>\n      <td>0</td>\n      <td>...</td>\n      <td>NaN</td>\n      <td>NaN</td>\n      <td>NaN</td>\n      <td>NaN</td>\n      <td>NaN</td>\n      <td>NaN</td>\n      <td>NaN</td>\n      <td>NaN</td>\n      <td>NaN</td>\n      <td>NaN</td>\n    </tr>\n    <tr>\n      <th>4</th>\n      <td>2016-17</td>\n      <td>0</td>\n      <td>2</td>\n      <td>296</td>\n      <td>75</td>\n      <td>100</td>\n      <td>5</td>\n      <td>158074</td>\n      <td>0</td>\n      <td>0</td>\n      <td>...</td>\n      <td>NaN</td>\n      <td>NaN</td>\n      <td>NaN</td>\n      <td>NaN</td>\n      <td>NaN</td>\n      <td>NaN</td>\n      <td>NaN</td>\n      <td>NaN</td>\n      <td>NaN</td>\n      <td>NaN</td>\n    </tr>\n  </tbody>\n</table>\n<p>5 rows × 98 columns</p>\n</div>"
     },
     "execution_count": 3,
     "metadata": {},
     "output_type": "execute_result"
    }
   ],
   "source": [
    "seasons = pd.read_json(\"../data/jsons/seasons_data.json\")\n",
    "seasons.head()"
   ],
   "metadata": {
    "collapsed": false,
    "ExecuteTime": {
     "end_time": "2024-03-19T18:56:09.373778Z",
     "start_time": "2024-03-19T18:55:59.192191Z"
    }
   },
   "execution_count": 3
  },
  {
   "cell_type": "markdown",
   "source": [
    "### **Merge Data**"
   ],
   "metadata": {
    "collapsed": false
   }
  },
  {
   "cell_type": "code",
   "outputs": [],
   "source": [
    "seasons = seasons[[\"code\", \"season\", \"id\", \"element_type\", \"position\", \"first_name\", \"second_name\", \"web_name\", \"team_code\", \"team_name\", \"now_cost\", \"cost_change_start\"]]"
   ],
   "metadata": {
    "collapsed": false,
    "ExecuteTime": {
     "end_time": "2024-03-19T18:56:10.232317Z",
     "start_time": "2024-03-19T18:56:09.543641Z"
    }
   },
   "execution_count": 4
  },
  {
   "cell_type": "code",
   "outputs": [],
   "source": [
    "# create a season column \n",
    "\n",
    "format_season = lambda begin_year: f\"{begin_year}-{begin_year-1999}\"\n",
    "kickoff_time_to_year = lambda x: format_season(x.kickoff_time.year if x.kickoff_time.month>=8 else x.kickoff_time.year-1)\n",
    "players[\"season\"] = players.apply(kickoff_time_to_year, axis=1)"
   ],
   "metadata": {
    "collapsed": false,
    "ExecuteTime": {
     "end_time": "2024-03-19T18:57:48.335629Z",
     "start_time": "2024-03-19T18:57:44.464089Z"
    }
   },
   "execution_count": 5
  },
  {
   "cell_type": "code",
   "outputs": [],
   "source": [
    "# add season info to gw stats of players\n",
    "\n",
    "data = pd.merge(players, seasons, left_on=['element', 'season'], right_on=['id', 'season'], how='inner', copy=True)"
   ],
   "metadata": {
    "collapsed": false,
    "ExecuteTime": {
     "end_time": "2024-03-19T18:58:42.346930Z",
     "start_time": "2024-03-19T18:58:41.665260Z"
    }
   },
   "execution_count": 6
  },
  {
   "cell_type": "markdown",
   "source": [
    "### **Prepare Data**\n",
    "\n",
    "prepare dataset for cost change prediction"
   ],
   "metadata": {
    "collapsed": false
   }
  },
  {
   "cell_type": "code",
   "outputs": [],
   "source": [
    "df = data[[\"code\", \"player_name\", \"season\", \"element\", \"position\", \"team_name_x\", \"fixture\", \"kickoff_time\", \"selected\", \"transfers_balance\", \"transfers_in\", \"transfers_out\", \"value\", \"now_cost\", \"cost_change_start\"]].copy()"
   ],
   "metadata": {
    "collapsed": false,
    "ExecuteTime": {
     "end_time": "2024-03-19T18:58:45.624916Z",
     "start_time": "2024-03-19T18:58:45.495061Z"
    }
   },
   "execution_count": 7
  },
  {
   "cell_type": "code",
   "outputs": [],
   "source": [
    "df.rename({\"player_name\": \"player\", \"team_name_x\": \"team\", \"value\": \"cost\", \"now_cost\": \"cost_finish\"}, axis=1, inplace=True)\n",
    "df[\"cost\"] = round(df[\"cost\"] / 10, 1)\n",
    "df[\"cost_change_start\"] = round(df['cost_change_start'] / 10, 1)\n",
    "df[\"cost_start\"] = df[\"cost_finish\"] - df[\"cost_change_start\"]"
   ],
   "metadata": {
    "collapsed": false,
    "ExecuteTime": {
     "end_time": "2024-03-19T18:58:46.978790Z",
     "start_time": "2024-03-19T18:58:46.949294Z"
    }
   },
   "execution_count": 8
  },
  {
   "cell_type": "code",
   "outputs": [],
   "source": [
    "df.sort_values(by=['season', 'code', 'kickoff_time'], inplace=True)"
   ],
   "metadata": {
    "collapsed": false,
    "ExecuteTime": {
     "end_time": "2024-03-19T18:58:49.744674Z",
     "start_time": "2024-03-19T18:58:49.107274Z"
    }
   },
   "execution_count": 9
  },
  {
   "cell_type": "code",
   "outputs": [],
   "source": [
    "df[\"cost_change\"] = df.groupby([\"season\", \"code\"])[\"cost\"].diff().map(lambda x: round(x, 1))\n",
    "df[\"cost_prior\"] = df[\"cost\"] - df[\"cost_change\"]\n",
    "df[\"time_frame\"] = df.groupby([\"season\", \"code\"])[\"kickoff_time\"].diff().map(lambda x: x.round(\"d\").days)"
   ],
   "metadata": {
    "collapsed": false,
    "ExecuteTime": {
     "end_time": "2024-03-19T18:58:55.512163Z",
     "start_time": "2024-03-19T18:58:51.490873Z"
    }
   },
   "execution_count": 10
  },
  {
   "cell_type": "code",
   "outputs": [
    {
     "data": {
      "text/plain": "          code     player   season  element position team  fixture  \\\n105618    1616  Manninger  2016-17      524      GKP  LIV        8   \n105617    1616  Manninger  2016-17      524      GKP  LIV       12   \n105616    1616  Manninger  2016-17      524      GKP  LIV       27   \n105615    1616  Manninger  2016-17      524      GKP  LIV       34   \n105614    1616  Manninger  2016-17      524      GKP  LIV       41   \n...        ...        ...      ...      ...      ...  ...      ...   \n43353   617054     Deivid  2023-24      677      FWD  CHE      232   \n43352   617054     Deivid  2023-24      677      FWD  CHE      246   \n43351   617054     Deivid  2023-24      677      FWD  CHE      261   \n43350   617054     Deivid  2023-24      677      FWD  CHE      275   \n9068    622536     Arthur  2023-24      834      DEF  BRE      271   \n\n                    kickoff_time  selected  transfers_balance  transfers_in  \\\n105618 2016-08-14 15:00:00+00:00         0                  0             0   \n105617 2016-08-20 14:00:00+00:00      5408                883          1014   \n105616 2016-08-27 11:30:00+00:00      9242               1079          1592   \n105615 2016-09-10 16:30:00+00:00     11719                926          1518   \n105614 2016-09-16 19:00:00+00:00     12589                288           632   \n...                          ...       ...                ...           ...   \n43353  2024-02-12 20:00:00+00:00      6988                 21           218   \n43352  2024-02-17 17:30:00+00:00      7314                178           405   \n43351  2024-03-02 15:00:00+00:00      7480                 51           213   \n43350  2024-03-11 20:00:00+00:00      7429               -125           108   \n9068   2024-03-09 17:30:00+00:00         0                  0             0   \n\n        transfers_out  cost  cost_finish  cost_change_start  cost_start  \\\n105618              0   4.0          4.0                0.0         4.0   \n105617            131   4.0          4.0                0.0         4.0   \n105616            513   4.0          4.0                0.0         4.0   \n105615            592   4.0          4.0                0.0         4.0   \n105614            344   4.0          4.0                0.0         4.0   \n...               ...   ...          ...                ...         ...   \n43353             197   4.5          4.5                0.0         4.5   \n43352             227   4.5          4.5                0.0         4.5   \n43351             162   4.5          4.5                0.0         4.5   \n43350             233   4.5          4.5                0.0         4.5   \n9068                0   4.0          4.0                0.0         4.0   \n\n        cost_change  cost_prior  time_frame  \n105618          NaN         NaN         NaN  \n105617          0.0         4.0         6.0  \n105616          0.0         4.0         7.0  \n105615          0.0         4.0        14.0  \n105614          0.0         4.0         6.0  \n...             ...         ...         ...  \n43353           0.0         4.5         8.0  \n43352           0.0         4.5         5.0  \n43351           0.0         4.5        14.0  \n43350           0.0         4.5         9.0  \n9068            NaN         NaN         NaN  \n\n[187976 rows x 19 columns]",
      "text/html": "<div>\n<style scoped>\n    .dataframe tbody tr th:only-of-type {\n        vertical-align: middle;\n    }\n\n    .dataframe tbody tr th {\n        vertical-align: top;\n    }\n\n    .dataframe thead th {\n        text-align: right;\n    }\n</style>\n<table border=\"1\" class=\"dataframe\">\n  <thead>\n    <tr style=\"text-align: right;\">\n      <th></th>\n      <th>code</th>\n      <th>player</th>\n      <th>season</th>\n      <th>element</th>\n      <th>position</th>\n      <th>team</th>\n      <th>fixture</th>\n      <th>kickoff_time</th>\n      <th>selected</th>\n      <th>transfers_balance</th>\n      <th>transfers_in</th>\n      <th>transfers_out</th>\n      <th>cost</th>\n      <th>cost_finish</th>\n      <th>cost_change_start</th>\n      <th>cost_start</th>\n      <th>cost_change</th>\n      <th>cost_prior</th>\n      <th>time_frame</th>\n    </tr>\n  </thead>\n  <tbody>\n    <tr>\n      <th>105618</th>\n      <td>1616</td>\n      <td>Manninger</td>\n      <td>2016-17</td>\n      <td>524</td>\n      <td>GKP</td>\n      <td>LIV</td>\n      <td>8</td>\n      <td>2016-08-14 15:00:00+00:00</td>\n      <td>0</td>\n      <td>0</td>\n      <td>0</td>\n      <td>0</td>\n      <td>4.0</td>\n      <td>4.0</td>\n      <td>0.0</td>\n      <td>4.0</td>\n      <td>NaN</td>\n      <td>NaN</td>\n      <td>NaN</td>\n    </tr>\n    <tr>\n      <th>105617</th>\n      <td>1616</td>\n      <td>Manninger</td>\n      <td>2016-17</td>\n      <td>524</td>\n      <td>GKP</td>\n      <td>LIV</td>\n      <td>12</td>\n      <td>2016-08-20 14:00:00+00:00</td>\n      <td>5408</td>\n      <td>883</td>\n      <td>1014</td>\n      <td>131</td>\n      <td>4.0</td>\n      <td>4.0</td>\n      <td>0.0</td>\n      <td>4.0</td>\n      <td>0.0</td>\n      <td>4.0</td>\n      <td>6.0</td>\n    </tr>\n    <tr>\n      <th>105616</th>\n      <td>1616</td>\n      <td>Manninger</td>\n      <td>2016-17</td>\n      <td>524</td>\n      <td>GKP</td>\n      <td>LIV</td>\n      <td>27</td>\n      <td>2016-08-27 11:30:00+00:00</td>\n      <td>9242</td>\n      <td>1079</td>\n      <td>1592</td>\n      <td>513</td>\n      <td>4.0</td>\n      <td>4.0</td>\n      <td>0.0</td>\n      <td>4.0</td>\n      <td>0.0</td>\n      <td>4.0</td>\n      <td>7.0</td>\n    </tr>\n    <tr>\n      <th>105615</th>\n      <td>1616</td>\n      <td>Manninger</td>\n      <td>2016-17</td>\n      <td>524</td>\n      <td>GKP</td>\n      <td>LIV</td>\n      <td>34</td>\n      <td>2016-09-10 16:30:00+00:00</td>\n      <td>11719</td>\n      <td>926</td>\n      <td>1518</td>\n      <td>592</td>\n      <td>4.0</td>\n      <td>4.0</td>\n      <td>0.0</td>\n      <td>4.0</td>\n      <td>0.0</td>\n      <td>4.0</td>\n      <td>14.0</td>\n    </tr>\n    <tr>\n      <th>105614</th>\n      <td>1616</td>\n      <td>Manninger</td>\n      <td>2016-17</td>\n      <td>524</td>\n      <td>GKP</td>\n      <td>LIV</td>\n      <td>41</td>\n      <td>2016-09-16 19:00:00+00:00</td>\n      <td>12589</td>\n      <td>288</td>\n      <td>632</td>\n      <td>344</td>\n      <td>4.0</td>\n      <td>4.0</td>\n      <td>0.0</td>\n      <td>4.0</td>\n      <td>0.0</td>\n      <td>4.0</td>\n      <td>6.0</td>\n    </tr>\n    <tr>\n      <th>...</th>\n      <td>...</td>\n      <td>...</td>\n      <td>...</td>\n      <td>...</td>\n      <td>...</td>\n      <td>...</td>\n      <td>...</td>\n      <td>...</td>\n      <td>...</td>\n      <td>...</td>\n      <td>...</td>\n      <td>...</td>\n      <td>...</td>\n      <td>...</td>\n      <td>...</td>\n      <td>...</td>\n      <td>...</td>\n      <td>...</td>\n      <td>...</td>\n    </tr>\n    <tr>\n      <th>43353</th>\n      <td>617054</td>\n      <td>Deivid</td>\n      <td>2023-24</td>\n      <td>677</td>\n      <td>FWD</td>\n      <td>CHE</td>\n      <td>232</td>\n      <td>2024-02-12 20:00:00+00:00</td>\n      <td>6988</td>\n      <td>21</td>\n      <td>218</td>\n      <td>197</td>\n      <td>4.5</td>\n      <td>4.5</td>\n      <td>0.0</td>\n      <td>4.5</td>\n      <td>0.0</td>\n      <td>4.5</td>\n      <td>8.0</td>\n    </tr>\n    <tr>\n      <th>43352</th>\n      <td>617054</td>\n      <td>Deivid</td>\n      <td>2023-24</td>\n      <td>677</td>\n      <td>FWD</td>\n      <td>CHE</td>\n      <td>246</td>\n      <td>2024-02-17 17:30:00+00:00</td>\n      <td>7314</td>\n      <td>178</td>\n      <td>405</td>\n      <td>227</td>\n      <td>4.5</td>\n      <td>4.5</td>\n      <td>0.0</td>\n      <td>4.5</td>\n      <td>0.0</td>\n      <td>4.5</td>\n      <td>5.0</td>\n    </tr>\n    <tr>\n      <th>43351</th>\n      <td>617054</td>\n      <td>Deivid</td>\n      <td>2023-24</td>\n      <td>677</td>\n      <td>FWD</td>\n      <td>CHE</td>\n      <td>261</td>\n      <td>2024-03-02 15:00:00+00:00</td>\n      <td>7480</td>\n      <td>51</td>\n      <td>213</td>\n      <td>162</td>\n      <td>4.5</td>\n      <td>4.5</td>\n      <td>0.0</td>\n      <td>4.5</td>\n      <td>0.0</td>\n      <td>4.5</td>\n      <td>14.0</td>\n    </tr>\n    <tr>\n      <th>43350</th>\n      <td>617054</td>\n      <td>Deivid</td>\n      <td>2023-24</td>\n      <td>677</td>\n      <td>FWD</td>\n      <td>CHE</td>\n      <td>275</td>\n      <td>2024-03-11 20:00:00+00:00</td>\n      <td>7429</td>\n      <td>-125</td>\n      <td>108</td>\n      <td>233</td>\n      <td>4.5</td>\n      <td>4.5</td>\n      <td>0.0</td>\n      <td>4.5</td>\n      <td>0.0</td>\n      <td>4.5</td>\n      <td>9.0</td>\n    </tr>\n    <tr>\n      <th>9068</th>\n      <td>622536</td>\n      <td>Arthur</td>\n      <td>2023-24</td>\n      <td>834</td>\n      <td>DEF</td>\n      <td>BRE</td>\n      <td>271</td>\n      <td>2024-03-09 17:30:00+00:00</td>\n      <td>0</td>\n      <td>0</td>\n      <td>0</td>\n      <td>0</td>\n      <td>4.0</td>\n      <td>4.0</td>\n      <td>0.0</td>\n      <td>4.0</td>\n      <td>NaN</td>\n      <td>NaN</td>\n      <td>NaN</td>\n    </tr>\n  </tbody>\n</table>\n<p>187976 rows × 19 columns</p>\n</div>"
     },
     "execution_count": 11,
     "metadata": {},
     "output_type": "execute_result"
    }
   ],
   "source": [
    "df"
   ],
   "metadata": {
    "collapsed": false,
    "ExecuteTime": {
     "end_time": "2024-03-19T18:58:56.572144Z",
     "start_time": "2024-03-19T18:58:56.529484Z"
    }
   },
   "execution_count": 11
  },
  {
   "cell_type": "markdown",
   "source": [
    "### **Missing Data**"
   ],
   "metadata": {
    "collapsed": false
   }
  },
  {
   "cell_type": "code",
   "outputs": [],
   "source": [
    "df_transformed = df[df[\"cost_change\"].notnull()][[\"position\", \"selected\", \"transfers_balance\", \"transfers_in\", \"transfers_out\", \"cost_prior\", \"cost_start\", \"time_frame\", \"cost_change\"]].copy()"
   ],
   "metadata": {
    "collapsed": false,
    "ExecuteTime": {
     "end_time": "2024-03-19T18:59:04.914972Z",
     "start_time": "2024-03-19T18:59:04.787124Z"
    }
   },
   "execution_count": 12
  },
  {
   "cell_type": "code",
   "outputs": [
    {
     "data": {
      "text/plain": "array([  6.,   7.,  14.,   8.,  16.,   5.,  13.,   3.,   4.,   2.,  10.,\n        15.,  11.,   9.,  12.,  21.,  20.,  19.,  22.,  17., 103., 102.,\n       100., 105., 106., 107., 101.,  18., 104.,   0.,  23.,   1.,  27.,\n        44.,  28.,  46.,  43.,  45.,  29.])"
     },
     "execution_count": 13,
     "metadata": {},
     "output_type": "execute_result"
    }
   ],
   "source": [
    "df_transformed['time_frame'].unique()"
   ],
   "metadata": {
    "collapsed": false,
    "ExecuteTime": {
     "end_time": "2024-03-19T18:59:09.572149Z",
     "start_time": "2024-03-19T18:59:09.402568Z"
    }
   },
   "execution_count": 13
  },
  {
   "cell_type": "code",
   "outputs": [],
   "source": [
    "df_transformed = df_transformed[df_transformed['time_frame'] < 100]"
   ],
   "metadata": {
    "collapsed": false,
    "ExecuteTime": {
     "end_time": "2024-03-19T18:59:25.239399Z",
     "start_time": "2024-03-19T18:59:25.197597Z"
    }
   },
   "execution_count": 14
  },
  {
   "cell_type": "code",
   "outputs": [
    {
     "data": {
      "text/plain": "array([ 0. ,  0.1, -0.1,  0.2, -0.2,  0.3, -0.3, -0.4])"
     },
     "execution_count": 15,
     "metadata": {},
     "output_type": "execute_result"
    }
   ],
   "source": [
    "df_transformed[\"cost_change\"].unique()"
   ],
   "metadata": {
    "collapsed": false,
    "ExecuteTime": {
     "end_time": "2024-03-19T18:59:43.700177Z",
     "start_time": "2024-03-19T18:59:43.687012Z"
    }
   },
   "execution_count": 15
  },
  {
   "cell_type": "markdown",
   "source": [
    "### **Sampling**"
   ],
   "metadata": {
    "collapsed": false
   }
  },
  {
   "cell_type": "code",
   "outputs": [],
   "source": [
    "from sklearn.utils import resample\n",
    "\n",
    "pos_sample = resample(df_transformed[df_transformed['cost_change'] > 0], replace=False, n_samples=2000, random_state=42)\n",
    "neu_sample = resample(df_transformed[df_transformed['cost_change'] == 0], replace=False, n_samples=2000, random_state=42)\n",
    "neg_sample = resample(df_transformed[df_transformed['cost_change'] < 0], replace=False, n_samples=2000, random_state=42)\n",
    "\n",
    "sample = pd.concat([pos_sample, neu_sample, neg_sample], axis=0)"
   ],
   "metadata": {
    "collapsed": false,
    "ExecuteTime": {
     "end_time": "2024-03-19T19:03:04.138777Z",
     "start_time": "2024-03-19T19:02:49.038211Z"
    }
   },
   "execution_count": 18
  },
  {
   "cell_type": "code",
   "outputs": [
    {
     "data": {
      "text/plain": "       position  selected  transfers_balance  transfers_in  transfers_out  \\\n163690      MID   1176850             -14287         32067          46354   \n11476       MID    325748             145837        153618           7781   \n169673      DEF   4127650             810354        850872          40518   \n117936      MID    465592              35271         52406          17135   \n75575       DEF    912164             317143        361778          44635   \n...         ...       ...                ...           ...            ...   \n174826      DEF       117                 -8             7             15   \n174981      MID     41721              -7867          1176           9043   \n18313       MID      7067              -2123           387           2510   \n77974       FWD     16836              -4213          1818           6031   \n158676      MID     72792              -2118           233           2351   \n\n        cost_prior  cost_start  time_frame  cost_change  \n163690        11.5        11.0        15.0          0.1  \n11476          8.0         8.0         6.0          0.1  \n169673         6.5         6.5         6.0          0.2  \n117936         7.6         8.0         4.0          0.1  \n75575          4.7         4.5        13.0          0.1  \n...            ...         ...         ...          ...  \n174826         4.5         4.5        14.0         -0.1  \n174981         6.5         6.5         6.0         -0.1  \n18313          6.0         6.0        15.0         -0.1  \n77974         10.0        10.0         4.0         -0.1  \n158676         5.2         5.5         7.0         -0.1  \n\n[6000 rows x 9 columns]",
      "text/html": "<div>\n<style scoped>\n    .dataframe tbody tr th:only-of-type {\n        vertical-align: middle;\n    }\n\n    .dataframe tbody tr th {\n        vertical-align: top;\n    }\n\n    .dataframe thead th {\n        text-align: right;\n    }\n</style>\n<table border=\"1\" class=\"dataframe\">\n  <thead>\n    <tr style=\"text-align: right;\">\n      <th></th>\n      <th>position</th>\n      <th>selected</th>\n      <th>transfers_balance</th>\n      <th>transfers_in</th>\n      <th>transfers_out</th>\n      <th>cost_prior</th>\n      <th>cost_start</th>\n      <th>time_frame</th>\n      <th>cost_change</th>\n    </tr>\n  </thead>\n  <tbody>\n    <tr>\n      <th>163690</th>\n      <td>MID</td>\n      <td>1176850</td>\n      <td>-14287</td>\n      <td>32067</td>\n      <td>46354</td>\n      <td>11.5</td>\n      <td>11.0</td>\n      <td>15.0</td>\n      <td>0.1</td>\n    </tr>\n    <tr>\n      <th>11476</th>\n      <td>MID</td>\n      <td>325748</td>\n      <td>145837</td>\n      <td>153618</td>\n      <td>7781</td>\n      <td>8.0</td>\n      <td>8.0</td>\n      <td>6.0</td>\n      <td>0.1</td>\n    </tr>\n    <tr>\n      <th>169673</th>\n      <td>DEF</td>\n      <td>4127650</td>\n      <td>810354</td>\n      <td>850872</td>\n      <td>40518</td>\n      <td>6.5</td>\n      <td>6.5</td>\n      <td>6.0</td>\n      <td>0.2</td>\n    </tr>\n    <tr>\n      <th>117936</th>\n      <td>MID</td>\n      <td>465592</td>\n      <td>35271</td>\n      <td>52406</td>\n      <td>17135</td>\n      <td>7.6</td>\n      <td>8.0</td>\n      <td>4.0</td>\n      <td>0.1</td>\n    </tr>\n    <tr>\n      <th>75575</th>\n      <td>DEF</td>\n      <td>912164</td>\n      <td>317143</td>\n      <td>361778</td>\n      <td>44635</td>\n      <td>4.7</td>\n      <td>4.5</td>\n      <td>13.0</td>\n      <td>0.1</td>\n    </tr>\n    <tr>\n      <th>...</th>\n      <td>...</td>\n      <td>...</td>\n      <td>...</td>\n      <td>...</td>\n      <td>...</td>\n      <td>...</td>\n      <td>...</td>\n      <td>...</td>\n      <td>...</td>\n    </tr>\n    <tr>\n      <th>174826</th>\n      <td>DEF</td>\n      <td>117</td>\n      <td>-8</td>\n      <td>7</td>\n      <td>15</td>\n      <td>4.5</td>\n      <td>4.5</td>\n      <td>14.0</td>\n      <td>-0.1</td>\n    </tr>\n    <tr>\n      <th>174981</th>\n      <td>MID</td>\n      <td>41721</td>\n      <td>-7867</td>\n      <td>1176</td>\n      <td>9043</td>\n      <td>6.5</td>\n      <td>6.5</td>\n      <td>6.0</td>\n      <td>-0.1</td>\n    </tr>\n    <tr>\n      <th>18313</th>\n      <td>MID</td>\n      <td>7067</td>\n      <td>-2123</td>\n      <td>387</td>\n      <td>2510</td>\n      <td>6.0</td>\n      <td>6.0</td>\n      <td>15.0</td>\n      <td>-0.1</td>\n    </tr>\n    <tr>\n      <th>77974</th>\n      <td>FWD</td>\n      <td>16836</td>\n      <td>-4213</td>\n      <td>1818</td>\n      <td>6031</td>\n      <td>10.0</td>\n      <td>10.0</td>\n      <td>4.0</td>\n      <td>-0.1</td>\n    </tr>\n    <tr>\n      <th>158676</th>\n      <td>MID</td>\n      <td>72792</td>\n      <td>-2118</td>\n      <td>233</td>\n      <td>2351</td>\n      <td>5.2</td>\n      <td>5.5</td>\n      <td>7.0</td>\n      <td>-0.1</td>\n    </tr>\n  </tbody>\n</table>\n<p>6000 rows × 9 columns</p>\n</div>"
     },
     "execution_count": 19,
     "metadata": {},
     "output_type": "execute_result"
    }
   ],
   "source": [
    "sample"
   ],
   "metadata": {
    "collapsed": false,
    "ExecuteTime": {
     "end_time": "2024-03-19T19:04:06.444906Z",
     "start_time": "2024-03-19T19:04:06.399063Z"
    }
   },
   "execution_count": 19
  },
  {
   "cell_type": "code",
   "outputs": [],
   "source": [
    "X = sample.drop(\"cost_change\", axis=1).copy()\n",
    "y = sample[\"cost_change\"].apply(lambda x: 1 if x > 0 else -1 if x < 0 else 0).copy()"
   ],
   "metadata": {
    "collapsed": false,
    "ExecuteTime": {
     "end_time": "2024-03-19T19:04:15.749441Z",
     "start_time": "2024-03-19T19:04:15.719200Z"
    }
   },
   "execution_count": 20
  },
  {
   "cell_type": "code",
   "outputs": [],
   "source": [
    "# One-Hot Encoding\n",
    "\n",
    "X_encoded = pd.get_dummies(X, columns=['position'])"
   ],
   "metadata": {
    "collapsed": false,
    "ExecuteTime": {
     "end_time": "2024-03-19T19:04:38.458222Z",
     "start_time": "2024-03-19T19:04:38.444321Z"
    }
   },
   "execution_count": 22
  },
  {
   "cell_type": "code",
   "outputs": [],
   "source": [
    "# Centering & Scaling\n",
    "\n",
    "from sklearn.model_selection import train_test_split\n",
    "from sklearn.preprocessing import scale\n",
    "\n",
    "X_train, X_test, y_train, y_test = train_test_split(X_encoded, y, random_state=42)\n",
    "X_train_scaled = scale(X_train)\n",
    "X_test_scaled = scale(X_test)"
   ],
   "metadata": {
    "collapsed": false,
    "ExecuteTime": {
     "end_time": "2024-03-19T19:04:46.619686Z",
     "start_time": "2024-03-19T19:04:42.456972Z"
    }
   },
   "execution_count": 23
  },
  {
   "cell_type": "markdown",
   "source": [
    "### **Build Model**"
   ],
   "metadata": {
    "collapsed": false
   }
  },
  {
   "cell_type": "code",
   "outputs": [
    {
     "data": {
      "text/plain": "SVC(random_state=42)",
      "text/html": "<style>#sk-container-id-1 {\n  /* Definition of color scheme common for light and dark mode */\n  --sklearn-color-text: black;\n  --sklearn-color-line: gray;\n  /* Definition of color scheme for unfitted estimators */\n  --sklearn-color-unfitted-level-0: #fff5e6;\n  --sklearn-color-unfitted-level-1: #f6e4d2;\n  --sklearn-color-unfitted-level-2: #ffe0b3;\n  --sklearn-color-unfitted-level-3: chocolate;\n  /* Definition of color scheme for fitted estimators */\n  --sklearn-color-fitted-level-0: #f0f8ff;\n  --sklearn-color-fitted-level-1: #d4ebff;\n  --sklearn-color-fitted-level-2: #b3dbfd;\n  --sklearn-color-fitted-level-3: cornflowerblue;\n\n  /* Specific color for light theme */\n  --sklearn-color-text-on-default-background: var(--sg-text-color, var(--theme-code-foreground, var(--jp-content-font-color1, black)));\n  --sklearn-color-background: var(--sg-background-color, var(--theme-background, var(--jp-layout-color0, white)));\n  --sklearn-color-border-box: var(--sg-text-color, var(--theme-code-foreground, var(--jp-content-font-color1, black)));\n  --sklearn-color-icon: #696969;\n\n  @media (prefers-color-scheme: dark) {\n    /* Redefinition of color scheme for dark theme */\n    --sklearn-color-text-on-default-background: var(--sg-text-color, var(--theme-code-foreground, var(--jp-content-font-color1, white)));\n    --sklearn-color-background: var(--sg-background-color, var(--theme-background, var(--jp-layout-color0, #111)));\n    --sklearn-color-border-box: var(--sg-text-color, var(--theme-code-foreground, var(--jp-content-font-color1, white)));\n    --sklearn-color-icon: #878787;\n  }\n}\n\n#sk-container-id-1 {\n  color: var(--sklearn-color-text);\n}\n\n#sk-container-id-1 pre {\n  padding: 0;\n}\n\n#sk-container-id-1 input.sk-hidden--visually {\n  border: 0;\n  clip: rect(1px 1px 1px 1px);\n  clip: rect(1px, 1px, 1px, 1px);\n  height: 1px;\n  margin: -1px;\n  overflow: hidden;\n  padding: 0;\n  position: absolute;\n  width: 1px;\n}\n\n#sk-container-id-1 div.sk-dashed-wrapped {\n  border: 1px dashed var(--sklearn-color-line);\n  margin: 0 0.4em 0.5em 0.4em;\n  box-sizing: border-box;\n  padding-bottom: 0.4em;\n  background-color: var(--sklearn-color-background);\n}\n\n#sk-container-id-1 div.sk-container {\n  /* jupyter's `normalize.less` sets `[hidden] { display: none; }`\n     but bootstrap.min.css set `[hidden] { display: none !important; }`\n     so we also need the `!important` here to be able to override the\n     default hidden behavior on the sphinx rendered scikit-learn.org.\n     See: https://github.com/scikit-learn/scikit-learn/issues/21755 */\n  display: inline-block !important;\n  position: relative;\n}\n\n#sk-container-id-1 div.sk-text-repr-fallback {\n  display: none;\n}\n\ndiv.sk-parallel-item,\ndiv.sk-serial,\ndiv.sk-item {\n  /* draw centered vertical line to link estimators */\n  background-image: linear-gradient(var(--sklearn-color-text-on-default-background), var(--sklearn-color-text-on-default-background));\n  background-size: 2px 100%;\n  background-repeat: no-repeat;\n  background-position: center center;\n}\n\n/* Parallel-specific style estimator block */\n\n#sk-container-id-1 div.sk-parallel-item::after {\n  content: \"\";\n  width: 100%;\n  border-bottom: 2px solid var(--sklearn-color-text-on-default-background);\n  flex-grow: 1;\n}\n\n#sk-container-id-1 div.sk-parallel {\n  display: flex;\n  align-items: stretch;\n  justify-content: center;\n  background-color: var(--sklearn-color-background);\n  position: relative;\n}\n\n#sk-container-id-1 div.sk-parallel-item {\n  display: flex;\n  flex-direction: column;\n}\n\n#sk-container-id-1 div.sk-parallel-item:first-child::after {\n  align-self: flex-end;\n  width: 50%;\n}\n\n#sk-container-id-1 div.sk-parallel-item:last-child::after {\n  align-self: flex-start;\n  width: 50%;\n}\n\n#sk-container-id-1 div.sk-parallel-item:only-child::after {\n  width: 0;\n}\n\n/* Serial-specific style estimator block */\n\n#sk-container-id-1 div.sk-serial {\n  display: flex;\n  flex-direction: column;\n  align-items: center;\n  background-color: var(--sklearn-color-background);\n  padding-right: 1em;\n  padding-left: 1em;\n}\n\n\n/* Toggleable style: style used for estimator/Pipeline/ColumnTransformer box that is\nclickable and can be expanded/collapsed.\n- Pipeline and ColumnTransformer use this feature and define the default style\n- Estimators will overwrite some part of the style using the `sk-estimator` class\n*/\n\n/* Pipeline and ColumnTransformer style (default) */\n\n#sk-container-id-1 div.sk-toggleable {\n  /* Default theme specific background. It is overwritten whether we have a\n  specific estimator or a Pipeline/ColumnTransformer */\n  background-color: var(--sklearn-color-background);\n}\n\n/* Toggleable label */\n#sk-container-id-1 label.sk-toggleable__label {\n  cursor: pointer;\n  display: block;\n  width: 100%;\n  margin-bottom: 0;\n  padding: 0.5em;\n  box-sizing: border-box;\n  text-align: center;\n}\n\n#sk-container-id-1 label.sk-toggleable__label-arrow:before {\n  /* Arrow on the left of the label */\n  content: \"▸\";\n  float: left;\n  margin-right: 0.25em;\n  color: var(--sklearn-color-icon);\n}\n\n#sk-container-id-1 label.sk-toggleable__label-arrow:hover:before {\n  color: var(--sklearn-color-text);\n}\n\n/* Toggleable content - dropdown */\n\n#sk-container-id-1 div.sk-toggleable__content {\n  max-height: 0;\n  max-width: 0;\n  overflow: hidden;\n  text-align: left;\n  /* unfitted */\n  background-color: var(--sklearn-color-unfitted-level-0);\n}\n\n#sk-container-id-1 div.sk-toggleable__content.fitted {\n  /* fitted */\n  background-color: var(--sklearn-color-fitted-level-0);\n}\n\n#sk-container-id-1 div.sk-toggleable__content pre {\n  margin: 0.2em;\n  border-radius: 0.25em;\n  color: var(--sklearn-color-text);\n  /* unfitted */\n  background-color: var(--sklearn-color-unfitted-level-0);\n}\n\n#sk-container-id-1 div.sk-toggleable__content.fitted pre {\n  /* unfitted */\n  background-color: var(--sklearn-color-fitted-level-0);\n}\n\n#sk-container-id-1 input.sk-toggleable__control:checked~div.sk-toggleable__content {\n  /* Expand drop-down */\n  max-height: 200px;\n  max-width: 100%;\n  overflow: auto;\n}\n\n#sk-container-id-1 input.sk-toggleable__control:checked~label.sk-toggleable__label-arrow:before {\n  content: \"▾\";\n}\n\n/* Pipeline/ColumnTransformer-specific style */\n\n#sk-container-id-1 div.sk-label input.sk-toggleable__control:checked~label.sk-toggleable__label {\n  color: var(--sklearn-color-text);\n  background-color: var(--sklearn-color-unfitted-level-2);\n}\n\n#sk-container-id-1 div.sk-label.fitted input.sk-toggleable__control:checked~label.sk-toggleable__label {\n  background-color: var(--sklearn-color-fitted-level-2);\n}\n\n/* Estimator-specific style */\n\n/* Colorize estimator box */\n#sk-container-id-1 div.sk-estimator input.sk-toggleable__control:checked~label.sk-toggleable__label {\n  /* unfitted */\n  background-color: var(--sklearn-color-unfitted-level-2);\n}\n\n#sk-container-id-1 div.sk-estimator.fitted input.sk-toggleable__control:checked~label.sk-toggleable__label {\n  /* fitted */\n  background-color: var(--sklearn-color-fitted-level-2);\n}\n\n#sk-container-id-1 div.sk-label label.sk-toggleable__label,\n#sk-container-id-1 div.sk-label label {\n  /* The background is the default theme color */\n  color: var(--sklearn-color-text-on-default-background);\n}\n\n/* On hover, darken the color of the background */\n#sk-container-id-1 div.sk-label:hover label.sk-toggleable__label {\n  color: var(--sklearn-color-text);\n  background-color: var(--sklearn-color-unfitted-level-2);\n}\n\n/* Label box, darken color on hover, fitted */\n#sk-container-id-1 div.sk-label.fitted:hover label.sk-toggleable__label.fitted {\n  color: var(--sklearn-color-text);\n  background-color: var(--sklearn-color-fitted-level-2);\n}\n\n/* Estimator label */\n\n#sk-container-id-1 div.sk-label label {\n  font-family: monospace;\n  font-weight: bold;\n  display: inline-block;\n  line-height: 1.2em;\n}\n\n#sk-container-id-1 div.sk-label-container {\n  text-align: center;\n}\n\n/* Estimator-specific */\n#sk-container-id-1 div.sk-estimator {\n  font-family: monospace;\n  border: 1px dotted var(--sklearn-color-border-box);\n  border-radius: 0.25em;\n  box-sizing: border-box;\n  margin-bottom: 0.5em;\n  /* unfitted */\n  background-color: var(--sklearn-color-unfitted-level-0);\n}\n\n#sk-container-id-1 div.sk-estimator.fitted {\n  /* fitted */\n  background-color: var(--sklearn-color-fitted-level-0);\n}\n\n/* on hover */\n#sk-container-id-1 div.sk-estimator:hover {\n  /* unfitted */\n  background-color: var(--sklearn-color-unfitted-level-2);\n}\n\n#sk-container-id-1 div.sk-estimator.fitted:hover {\n  /* fitted */\n  background-color: var(--sklearn-color-fitted-level-2);\n}\n\n/* Specification for estimator info (e.g. \"i\" and \"?\") */\n\n/* Common style for \"i\" and \"?\" */\n\n.sk-estimator-doc-link,\na:link.sk-estimator-doc-link,\na:visited.sk-estimator-doc-link {\n  float: right;\n  font-size: smaller;\n  line-height: 1em;\n  font-family: monospace;\n  background-color: var(--sklearn-color-background);\n  border-radius: 1em;\n  height: 1em;\n  width: 1em;\n  text-decoration: none !important;\n  margin-left: 1ex;\n  /* unfitted */\n  border: var(--sklearn-color-unfitted-level-1) 1pt solid;\n  color: var(--sklearn-color-unfitted-level-1);\n}\n\n.sk-estimator-doc-link.fitted,\na:link.sk-estimator-doc-link.fitted,\na:visited.sk-estimator-doc-link.fitted {\n  /* fitted */\n  border: var(--sklearn-color-fitted-level-1) 1pt solid;\n  color: var(--sklearn-color-fitted-level-1);\n}\n\n/* On hover */\ndiv.sk-estimator:hover .sk-estimator-doc-link:hover,\n.sk-estimator-doc-link:hover,\ndiv.sk-label-container:hover .sk-estimator-doc-link:hover,\n.sk-estimator-doc-link:hover {\n  /* unfitted */\n  background-color: var(--sklearn-color-unfitted-level-3);\n  color: var(--sklearn-color-background);\n  text-decoration: none;\n}\n\ndiv.sk-estimator.fitted:hover .sk-estimator-doc-link.fitted:hover,\n.sk-estimator-doc-link.fitted:hover,\ndiv.sk-label-container:hover .sk-estimator-doc-link.fitted:hover,\n.sk-estimator-doc-link.fitted:hover {\n  /* fitted */\n  background-color: var(--sklearn-color-fitted-level-3);\n  color: var(--sklearn-color-background);\n  text-decoration: none;\n}\n\n/* Span, style for the box shown on hovering the info icon */\n.sk-estimator-doc-link span {\n  display: none;\n  z-index: 9999;\n  position: relative;\n  font-weight: normal;\n  right: .2ex;\n  padding: .5ex;\n  margin: .5ex;\n  width: min-content;\n  min-width: 20ex;\n  max-width: 50ex;\n  color: var(--sklearn-color-text);\n  box-shadow: 2pt 2pt 4pt #999;\n  /* unfitted */\n  background: var(--sklearn-color-unfitted-level-0);\n  border: .5pt solid var(--sklearn-color-unfitted-level-3);\n}\n\n.sk-estimator-doc-link.fitted span {\n  /* fitted */\n  background: var(--sklearn-color-fitted-level-0);\n  border: var(--sklearn-color-fitted-level-3);\n}\n\n.sk-estimator-doc-link:hover span {\n  display: block;\n}\n\n/* \"?\"-specific style due to the `<a>` HTML tag */\n\n#sk-container-id-1 a.estimator_doc_link {\n  float: right;\n  font-size: 1rem;\n  line-height: 1em;\n  font-family: monospace;\n  background-color: var(--sklearn-color-background);\n  border-radius: 1rem;\n  height: 1rem;\n  width: 1rem;\n  text-decoration: none;\n  /* unfitted */\n  color: var(--sklearn-color-unfitted-level-1);\n  border: var(--sklearn-color-unfitted-level-1) 1pt solid;\n}\n\n#sk-container-id-1 a.estimator_doc_link.fitted {\n  /* fitted */\n  border: var(--sklearn-color-fitted-level-1) 1pt solid;\n  color: var(--sklearn-color-fitted-level-1);\n}\n\n/* On hover */\n#sk-container-id-1 a.estimator_doc_link:hover {\n  /* unfitted */\n  background-color: var(--sklearn-color-unfitted-level-3);\n  color: var(--sklearn-color-background);\n  text-decoration: none;\n}\n\n#sk-container-id-1 a.estimator_doc_link.fitted:hover {\n  /* fitted */\n  background-color: var(--sklearn-color-fitted-level-3);\n}\n</style><div id=\"sk-container-id-1\" class=\"sk-top-container\"><div class=\"sk-text-repr-fallback\"><pre>SVC(random_state=42)</pre><b>In a Jupyter environment, please rerun this cell to show the HTML representation or trust the notebook. <br />On GitHub, the HTML representation is unable to render, please try loading this page with nbviewer.org.</b></div><div class=\"sk-container\" hidden><div class=\"sk-item\"><div class=\"sk-estimator fitted sk-toggleable\"><input class=\"sk-toggleable__control sk-hidden--visually\" id=\"sk-estimator-id-1\" type=\"checkbox\" checked><label for=\"sk-estimator-id-1\" class=\"sk-toggleable__label fitted sk-toggleable__label-arrow fitted\">&nbsp;&nbsp;SVC<a class=\"sk-estimator-doc-link fitted\" rel=\"noreferrer\" target=\"_blank\" href=\"https://scikit-learn.org/1.4/modules/generated/sklearn.svm.SVC.html\">?<span>Documentation for SVC</span></a><span class=\"sk-estimator-doc-link fitted\">i<span>Fitted</span></span></label><div class=\"sk-toggleable__content fitted\"><pre>SVC(random_state=42)</pre></div> </div></div></div></div>"
     },
     "execution_count": 24,
     "metadata": {},
     "output_type": "execute_result"
    }
   ],
   "source": [
    "from sklearn.svm import SVC\n",
    "\n",
    "clf_svm = SVC(random_state=42)\n",
    "clf_svm.fit(X_train_scaled, y_train)"
   ],
   "metadata": {
    "collapsed": false,
    "ExecuteTime": {
     "end_time": "2024-03-19T19:04:51.109327Z",
     "start_time": "2024-03-19T19:04:47.603819Z"
    }
   },
   "execution_count": 24
  },
  {
   "cell_type": "code",
   "outputs": [
    {
     "data": {
      "text/plain": "<Figure size 640x480 with 2 Axes>",
      "image/png": "[encoded data removed]"
     },
     "metadata": {},
     "output_type": "display_data"
    }
   ],
   "source": [
    "# Evaluate\n",
    "\n",
    "import matplotlib.pyplot as plt\n",
    "from sklearn.metrics import ConfusionMatrixDisplay\n",
    "\n",
    "ConfusionMatrixDisplay.from_estimator(clf_svm, X_test_scaled, y_test)\n",
    "plt.show()"
   ],
   "metadata": {
    "collapsed": false,
    "ExecuteTime": {
     "end_time": "2024-03-19T19:05:08.496705Z",
     "start_time": "2024-03-19T19:04:54.813359Z"
    }
   },
   "execution_count": 25
  },
  {
   "cell_type": "code",
   "outputs": [
    {
     "name": "stdout",
     "output_type": "stream",
     "text": [
      "{'C': 1000, 'gamma': 0.01, 'kernel': 'rbf'}\n",
      "0.7275555555555556\n"
     ]
    }
   ],
   "source": [
    "# Optimize parameters with Cross Validation\n",
    "\n",
    "from sklearn.model_selection import GridSearchCV\n",
    "\n",
    "param_grid = [{\n",
    "    'C': [0.5, 1, 10, 100, 1000],\n",
    "    'gamma': ['scale', 1, 0.1, 0.01, 0.001, 0.0001],\n",
    "    'kernel': ['rbf'],\n",
    "}]\n",
    "\n",
    "optimal_params = GridSearchCV(\n",
    "    SVC(),\n",
    "    param_grid=param_grid,\n",
    "    cv=5,\n",
    "    scoring='accuracy',\n",
    "    verbose=0\n",
    ")\n",
    "\n",
    "optimal_params.fit(X_train_scaled, y_train)\n",
    "print(optimal_params.best_params_)\n",
    "print(optimal_params.best_score_)"
   ],
   "metadata": {
    "collapsed": false,
    "ExecuteTime": {
     "end_time": "2024-03-19T19:07:56.000227Z",
     "start_time": "2024-03-19T19:05:57.089315Z"
    }
   },
   "execution_count": 28
  },
  {
   "cell_type": "code",
   "outputs": [
    {
     "data": {
      "text/plain": "<Figure size 640x480 with 2 Axes>",
      "image/png": "[encoded data removed]"
     },
     "metadata": {},
     "output_type": "display_data"
    }
   ],
   "source": [
    "# Optimized Model\n",
    "\n",
    "clf_svm = SVC(random_state=42, C=1000, gamma=0.01, kernel='rbf')\n",
    "clf_svm.fit(X_train_scaled, y_train)\n",
    "\n",
    "ConfusionMatrixDisplay.from_estimator(clf_svm, X_test_scaled, y_test)\n",
    "plt.show()"
   ],
   "metadata": {
    "collapsed": false,
    "ExecuteTime": {
     "end_time": "2024-03-19T19:09:06.113240Z",
     "start_time": "2024-03-19T19:09:03.949075Z"
    }
   },
   "execution_count": 30
  }
 ],
 "metadata": {
  "kernelspec": {
   "display_name": "Python 3",
   "language": "python",
   "name": "python3"
  },
  "language_info": {
   "codemirror_mode": {
    "name": "ipython",
    "version": 2
   },
   "file_extension": ".py",
   "mimetype": "text/x-python",
   "name": "python",
   "nbconvert_exporter": "python",
   "pygments_lexer": "ipython2",
   "version": "2.7.6"
  }
 },
 "nbformat": 4,
 "nbformat_minor": 0
}
