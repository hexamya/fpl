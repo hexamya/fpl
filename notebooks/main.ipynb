{
 "cells": [
  {
   "cell_type": "code",
   "outputs": [],
   "source": [
    "import pandas as pd\n",
    "import numpy as np"
   ],
   "metadata": {
    "collapsed": false,
    "ExecuteTime": {
     "end_time": "2024-03-18T22:12:14.690214Z",
     "start_time": "2024-03-18T22:12:01.205357Z"
    }
   },
   "execution_count": 1
  },
  {
   "cell_type": "code",
   "outputs": [
    {
     "data": {
      "text/plain": "   player  player_name  assists  bonus  bps  clean_sheets  creativity  \\\n0       0  A.Armstrong        0      0   25             0         0.0   \n1       0  A.Armstrong        0      0    0             0         0.0   \n2       0  A.Armstrong        0      0    3             0         1.2   \n3       0  A.Armstrong        0      0    8             0        10.3   \n4       0  A.Armstrong        0      0    2             0         0.0   \n\n   element  expected_assists  expected_goal_involvements  ...  loaned_in  \\\n0      408               0.0                        0.12  ...        NaN   \n1      408               0.0                        0.00  ...        NaN   \n2      408               0.0                        0.00  ...        NaN   \n3      408               0.0                        0.10  ...        NaN   \n4      408               0.0                        0.00  ...        NaN   \n\n   loaned_out  offside  open_play_crosses  penalties_conceded  recoveries  \\\n0         NaN      NaN                NaN                 NaN         NaN   \n1         NaN      NaN                NaN                 NaN         NaN   \n2         NaN      NaN                NaN                 NaN         NaN   \n3         NaN      NaN                NaN                 NaN         NaN   \n4         NaN      NaN                NaN                 NaN         NaN   \n\n   tackled tackles  target_missed  winning_goals  \n0      NaN     NaN            NaN            NaN  \n1      NaN     NaN            NaN            NaN  \n2      NaN     NaN            NaN            NaN  \n3      NaN     NaN            NaN            NaN  \n4      NaN     NaN            NaN            NaN  \n\n[5 rows x 65 columns]",
      "text/html": "<div>\n<style scoped>\n    .dataframe tbody tr th:only-of-type {\n        vertical-align: middle;\n    }\n\n    .dataframe tbody tr th {\n        vertical-align: top;\n    }\n\n    .dataframe thead th {\n        text-align: right;\n    }\n</style>\n<table border=\"1\" class=\"dataframe\">\n  <thead>\n    <tr style=\"text-align: right;\">\n      <th></th>\n      <th>player</th>\n      <th>player_name</th>\n      <th>assists</th>\n      <th>bonus</th>\n      <th>bps</th>\n      <th>clean_sheets</th>\n      <th>creativity</th>\n      <th>element</th>\n      <th>expected_assists</th>\n      <th>expected_goal_involvements</th>\n      <th>...</th>\n      <th>loaned_in</th>\n      <th>loaned_out</th>\n      <th>offside</th>\n      <th>open_play_crosses</th>\n      <th>penalties_conceded</th>\n      <th>recoveries</th>\n      <th>tackled</th>\n      <th>tackles</th>\n      <th>target_missed</th>\n      <th>winning_goals</th>\n    </tr>\n  </thead>\n  <tbody>\n    <tr>\n      <th>0</th>\n      <td>0</td>\n      <td>A.Armstrong</td>\n      <td>0</td>\n      <td>0</td>\n      <td>25</td>\n      <td>0</td>\n      <td>0.0</td>\n      <td>408</td>\n      <td>0.0</td>\n      <td>0.12</td>\n      <td>...</td>\n      <td>NaN</td>\n      <td>NaN</td>\n      <td>NaN</td>\n      <td>NaN</td>\n      <td>NaN</td>\n      <td>NaN</td>\n      <td>NaN</td>\n      <td>NaN</td>\n      <td>NaN</td>\n      <td>NaN</td>\n    </tr>\n    <tr>\n      <th>1</th>\n      <td>0</td>\n      <td>A.Armstrong</td>\n      <td>0</td>\n      <td>0</td>\n      <td>0</td>\n      <td>0</td>\n      <td>0.0</td>\n      <td>408</td>\n      <td>0.0</td>\n      <td>0.00</td>\n      <td>...</td>\n      <td>NaN</td>\n      <td>NaN</td>\n      <td>NaN</td>\n      <td>NaN</td>\n      <td>NaN</td>\n      <td>NaN</td>\n      <td>NaN</td>\n      <td>NaN</td>\n      <td>NaN</td>\n      <td>NaN</td>\n    </tr>\n    <tr>\n      <th>2</th>\n      <td>0</td>\n      <td>A.Armstrong</td>\n      <td>0</td>\n      <td>0</td>\n      <td>3</td>\n      <td>0</td>\n      <td>1.2</td>\n      <td>408</td>\n      <td>0.0</td>\n      <td>0.00</td>\n      <td>...</td>\n      <td>NaN</td>\n      <td>NaN</td>\n      <td>NaN</td>\n      <td>NaN</td>\n      <td>NaN</td>\n      <td>NaN</td>\n      <td>NaN</td>\n      <td>NaN</td>\n      <td>NaN</td>\n      <td>NaN</td>\n    </tr>\n    <tr>\n      <th>3</th>\n      <td>0</td>\n      <td>A.Armstrong</td>\n      <td>0</td>\n      <td>0</td>\n      <td>8</td>\n      <td>0</td>\n      <td>10.3</td>\n      <td>408</td>\n      <td>0.0</td>\n      <td>0.10</td>\n      <td>...</td>\n      <td>NaN</td>\n      <td>NaN</td>\n      <td>NaN</td>\n      <td>NaN</td>\n      <td>NaN</td>\n      <td>NaN</td>\n      <td>NaN</td>\n      <td>NaN</td>\n      <td>NaN</td>\n      <td>NaN</td>\n    </tr>\n    <tr>\n      <th>4</th>\n      <td>0</td>\n      <td>A.Armstrong</td>\n      <td>0</td>\n      <td>0</td>\n      <td>2</td>\n      <td>0</td>\n      <td>0.0</td>\n      <td>408</td>\n      <td>0.0</td>\n      <td>0.00</td>\n      <td>...</td>\n      <td>NaN</td>\n      <td>NaN</td>\n      <td>NaN</td>\n      <td>NaN</td>\n      <td>NaN</td>\n      <td>NaN</td>\n      <td>NaN</td>\n      <td>NaN</td>\n      <td>NaN</td>\n      <td>NaN</td>\n    </tr>\n  </tbody>\n</table>\n<p>5 rows × 65 columns</p>\n</div>"
     },
     "execution_count": 2,
     "metadata": {},
     "output_type": "execute_result"
    }
   ],
   "source": [
    "players = pd.read_json(\"players_data.json\")\n",
    "players.head()"
   ],
   "metadata": {
    "collapsed": false,
    "ExecuteTime": {
     "end_time": "2024-03-18T22:12:46.479026Z",
     "start_time": "2024-03-18T22:12:14.695497Z"
    }
   },
   "execution_count": 2
  },
  {
   "cell_type": "code",
   "outputs": [
    {
     "data": {
      "text/plain": "    season  assists  bonus  bps chance_of_playing_next_round  \\\n0  2016-17        0      0   18                          100   \n1  2016-17        0      2  660                          100   \n2  2016-17        1     19  723                            0   \n3  2016-17        0      0    5                          100   \n4  2016-17        0      2  296                           75   \n\n  chance_of_playing_this_round  clean_sheets    code  cost_change_event  \\\n0                          100             0   48844                  0   \n1                          100            12   11334                  0   \n2                           75            10   51507                  0   \n3                          100             0   17127                  0   \n4                          100             5  158074                  0   \n\n   cost_change_event_fall  ...  now_cost_rank  now_cost_rank_type  \\\n0                       0  ...            NaN                 NaN   \n1                       0  ...            NaN                 NaN   \n2                       0  ...            NaN                 NaN   \n3                       0  ...            NaN                 NaN   \n4                       0  ...            NaN                 NaN   \n\n   points_per_game_rank  points_per_game_rank_type  saves_per_90  \\\n0                   NaN                        NaN           NaN   \n1                   NaN                        NaN           NaN   \n2                   NaN                        NaN           NaN   \n3                   NaN                        NaN           NaN   \n4                   NaN                        NaN           NaN   \n\n   selected_rank selected_rank_type  starts  starts_per_90 points_per_90  \n0            NaN                NaN     NaN            NaN           NaN  \n1            NaN                NaN     NaN            NaN           NaN  \n2            NaN                NaN     NaN            NaN           NaN  \n3            NaN                NaN     NaN            NaN           NaN  \n4            NaN                NaN     NaN            NaN           NaN  \n\n[5 rows x 98 columns]",
      "text/html": "<div>\n<style scoped>\n    .dataframe tbody tr th:only-of-type {\n        vertical-align: middle;\n    }\n\n    .dataframe tbody tr th {\n        vertical-align: top;\n    }\n\n    .dataframe thead th {\n        text-align: right;\n    }\n</style>\n<table border=\"1\" class=\"dataframe\">\n  <thead>\n    <tr style=\"text-align: right;\">\n      <th></th>\n      <th>season</th>\n      <th>assists</th>\n      <th>bonus</th>\n      <th>bps</th>\n      <th>chance_of_playing_next_round</th>\n      <th>chance_of_playing_this_round</th>\n      <th>clean_sheets</th>\n      <th>code</th>\n      <th>cost_change_event</th>\n      <th>cost_change_event_fall</th>\n      <th>...</th>\n      <th>now_cost_rank</th>\n      <th>now_cost_rank_type</th>\n      <th>points_per_game_rank</th>\n      <th>points_per_game_rank_type</th>\n      <th>saves_per_90</th>\n      <th>selected_rank</th>\n      <th>selected_rank_type</th>\n      <th>starts</th>\n      <th>starts_per_90</th>\n      <th>points_per_90</th>\n    </tr>\n  </thead>\n  <tbody>\n    <tr>\n      <th>0</th>\n      <td>2016-17</td>\n      <td>0</td>\n      <td>0</td>\n      <td>18</td>\n      <td>100</td>\n      <td>100</td>\n      <td>0</td>\n      <td>48844</td>\n      <td>0</td>\n      <td>0</td>\n      <td>...</td>\n      <td>NaN</td>\n      <td>NaN</td>\n      <td>NaN</td>\n      <td>NaN</td>\n      <td>NaN</td>\n      <td>NaN</td>\n      <td>NaN</td>\n      <td>NaN</td>\n      <td>NaN</td>\n      <td>NaN</td>\n    </tr>\n    <tr>\n      <th>1</th>\n      <td>2016-17</td>\n      <td>0</td>\n      <td>2</td>\n      <td>660</td>\n      <td>100</td>\n      <td>100</td>\n      <td>12</td>\n      <td>11334</td>\n      <td>0</td>\n      <td>0</td>\n      <td>...</td>\n      <td>NaN</td>\n      <td>NaN</td>\n      <td>NaN</td>\n      <td>NaN</td>\n      <td>NaN</td>\n      <td>NaN</td>\n      <td>NaN</td>\n      <td>NaN</td>\n      <td>NaN</td>\n      <td>NaN</td>\n    </tr>\n    <tr>\n      <th>2</th>\n      <td>2016-17</td>\n      <td>1</td>\n      <td>19</td>\n      <td>723</td>\n      <td>0</td>\n      <td>75</td>\n      <td>10</td>\n      <td>51507</td>\n      <td>0</td>\n      <td>0</td>\n      <td>...</td>\n      <td>NaN</td>\n      <td>NaN</td>\n      <td>NaN</td>\n      <td>NaN</td>\n      <td>NaN</td>\n      <td>NaN</td>\n      <td>NaN</td>\n      <td>NaN</td>\n      <td>NaN</td>\n      <td>NaN</td>\n    </tr>\n    <tr>\n      <th>3</th>\n      <td>2016-17</td>\n      <td>0</td>\n      <td>0</td>\n      <td>5</td>\n      <td>100</td>\n      <td>100</td>\n      <td>0</td>\n      <td>17127</td>\n      <td>0</td>\n      <td>0</td>\n      <td>...</td>\n      <td>NaN</td>\n      <td>NaN</td>\n      <td>NaN</td>\n      <td>NaN</td>\n      <td>NaN</td>\n      <td>NaN</td>\n      <td>NaN</td>\n      <td>NaN</td>\n      <td>NaN</td>\n      <td>NaN</td>\n    </tr>\n    <tr>\n      <th>4</th>\n      <td>2016-17</td>\n      <td>0</td>\n      <td>2</td>\n      <td>296</td>\n      <td>75</td>\n      <td>100</td>\n      <td>5</td>\n      <td>158074</td>\n      <td>0</td>\n      <td>0</td>\n      <td>...</td>\n      <td>NaN</td>\n      <td>NaN</td>\n      <td>NaN</td>\n      <td>NaN</td>\n      <td>NaN</td>\n      <td>NaN</td>\n      <td>NaN</td>\n      <td>NaN</td>\n      <td>NaN</td>\n      <td>NaN</td>\n    </tr>\n  </tbody>\n</table>\n<p>5 rows × 98 columns</p>\n</div>"
     },
     "execution_count": 3,
     "metadata": {},
     "output_type": "execute_result"
    }
   ],
   "source": [
    "seasons = pd.read_json(\"seasons_data.json\")\n",
    "seasons.head()"
   ],
   "metadata": {
    "collapsed": false,
    "ExecuteTime": {
     "end_time": "2024-03-18T22:13:08.247330Z",
     "start_time": "2024-03-18T22:13:06.967204Z"
    }
   },
   "execution_count": 3
  },
  {
   "cell_type": "code",
   "outputs": [],
   "source": [
    "seasons = seasons[[\"code\", \"season\", \"id\", \"element_type\", \"position\", \"first_name\", \"second_name\", \"web_name\", \"team_code\", \"team_name\", \"now_cost\", \"cost_change_start\"]]"
   ],
   "metadata": {
    "collapsed": false,
    "ExecuteTime": {
     "end_time": "2024-03-18T22:13:08.278202Z",
     "start_time": "2024-03-18T22:13:08.254197Z"
    }
   },
   "execution_count": 4
  },
  {
   "cell_type": "code",
   "outputs": [],
   "source": [
    "format_season = lambda begin_year: f\"{begin_year}-{begin_year-1999}\"\n",
    "kickoff_time_to_year = lambda x: format_season(x.kickoff_time.year if x.kickoff_time.month>=8 else x.kickoff_time.year-1)\n",
    "players[\"season\"] = players.apply(kickoff_time_to_year, axis=1)"
   ],
   "metadata": {
    "collapsed": false,
    "ExecuteTime": {
     "end_time": "2024-03-18T22:13:13.423769Z",
     "start_time": "2024-03-18T22:13:08.283209Z"
    }
   },
   "execution_count": 5
  },
  {
   "cell_type": "code",
   "outputs": [],
   "source": [
    "data = pd.merge(players, seasons, left_on=['element', 'season'], right_on=['id', 'season'], how='inner', copy=True)"
   ],
   "metadata": {
    "collapsed": false,
    "ExecuteTime": {
     "end_time": "2024-03-18T22:13:14.898483Z",
     "start_time": "2024-03-18T22:13:13.425343Z"
    }
   },
   "execution_count": 6
  },
  {
   "cell_type": "code",
   "outputs": [],
   "source": [
    "df = data[[\"code\", \"player_name\", \"season\", \"element\", \"position\", \"team_name_x\", \"fixture\", \"kickoff_time\", \"selected\", \"transfers_balance\", \"transfers_in\", \"transfers_out\", \"value\", \"now_cost\", \"cost_change_start\"]].copy()"
   ],
   "metadata": {
    "collapsed": false,
    "ExecuteTime": {
     "end_time": "2024-03-18T22:13:51.381403Z",
     "start_time": "2024-03-18T22:13:51.218700Z"
    }
   },
   "execution_count": 7
  },
  {
   "cell_type": "code",
   "outputs": [],
   "source": [
    "df.rename({\"player_name\": \"player\", \"team_name_x\": \"team\", \"value\": \"cost\", \"now_cost\": \"cost_finish\"}, axis=1, inplace=True)\n",
    "df[\"cost\"] = round(df[\"cost\"] / 10, 1)\n",
    "df[\"cost_change_start\"] = round(df['cost_change_start'] / 10, 1)\n",
    "df[\"cost_start\"] = df[\"cost_finish\"] - df[\"cost_change_start\"]"
   ],
   "metadata": {
    "collapsed": false,
    "ExecuteTime": {
     "end_time": "2024-03-18T22:14:31.052923Z",
     "start_time": "2024-03-18T22:14:30.998662Z"
    }
   },
   "execution_count": 8
  },
  {
   "cell_type": "code",
   "outputs": [],
   "source": [
    "df.sort_values(by=['season', 'code', 'kickoff_time'], inplace=True)"
   ],
   "metadata": {
    "collapsed": false,
    "ExecuteTime": {
     "end_time": "2024-03-18T22:14:34.306873Z",
     "start_time": "2024-03-18T22:14:33.831683Z"
    }
   },
   "execution_count": 9
  },
  {
   "cell_type": "code",
   "outputs": [],
   "source": [
    "df[\"cost_change\"] = df.groupby([\"season\", \"code\"])[\"cost\"].diff().map(lambda x: round(x, 1))\n",
    "df[\"cost_prior\"] = df[\"cost\"] - df[\"cost_change\"]\n",
    "df[\"time_frame\"] = df.groupby([\"season\", \"code\"])[\"kickoff_time\"].diff().map(lambda x: x.round(\"d\").days)"
   ],
   "metadata": {
    "collapsed": false,
    "ExecuteTime": {
     "end_time": "2024-03-18T22:14:40.687310Z",
     "start_time": "2024-03-18T22:14:34.932097Z"
    }
   },
   "execution_count": 10
  },
  {
   "cell_type": "code",
   "outputs": [
    {
     "data": {
      "text/plain": "          code     player   season  element position team  fixture  \\\n105618    1616  Manninger  2016-17      524      GKP  LIV        8   \n105617    1616  Manninger  2016-17      524      GKP  LIV       12   \n105616    1616  Manninger  2016-17      524      GKP  LIV       27   \n105615    1616  Manninger  2016-17      524      GKP  LIV       34   \n105614    1616  Manninger  2016-17      524      GKP  LIV       41   \n...        ...        ...      ...      ...      ...  ...      ...   \n43353   617054     Deivid  2023-24      677      FWD  CHE      232   \n43352   617054     Deivid  2023-24      677      FWD  CHE      246   \n43351   617054     Deivid  2023-24      677      FWD  CHE      261   \n43350   617054     Deivid  2023-24      677      FWD  CHE      275   \n9068    622536     Arthur  2023-24      834      DEF  BRE      271   \n\n                    kickoff_time  selected  transfers_balance  transfers_in  \\\n105618 2016-08-14 15:00:00+00:00         0                  0             0   \n105617 2016-08-20 14:00:00+00:00      5408                883          1014   \n105616 2016-08-27 11:30:00+00:00      9242               1079          1592   \n105615 2016-09-10 16:30:00+00:00     11719                926          1518   \n105614 2016-09-16 19:00:00+00:00     12589                288           632   \n...                          ...       ...                ...           ...   \n43353  2024-02-12 20:00:00+00:00      6988                 21           218   \n43352  2024-02-17 17:30:00+00:00      7314                178           405   \n43351  2024-03-02 15:00:00+00:00      7480                 51           213   \n43350  2024-03-11 20:00:00+00:00      7429               -125           108   \n9068   2024-03-09 17:30:00+00:00         0                  0             0   \n\n        transfers_out  cost  cost_finish  cost_change_start  cost_start  \\\n105618              0   4.0          4.0                0.0         4.0   \n105617            131   4.0          4.0                0.0         4.0   \n105616            513   4.0          4.0                0.0         4.0   \n105615            592   4.0          4.0                0.0         4.0   \n105614            344   4.0          4.0                0.0         4.0   \n...               ...   ...          ...                ...         ...   \n43353             197   4.5          4.5                0.0         4.5   \n43352             227   4.5          4.5                0.0         4.5   \n43351             162   4.5          4.5                0.0         4.5   \n43350             233   4.5          4.5                0.0         4.5   \n9068                0   4.0          4.0                0.0         4.0   \n\n        cost_change  cost_prior  time_frame  \n105618          NaN         NaN         NaN  \n105617          0.0         4.0         6.0  \n105616          0.0         4.0         7.0  \n105615          0.0         4.0        14.0  \n105614          0.0         4.0         6.0  \n...             ...         ...         ...  \n43353           0.0         4.5         8.0  \n43352           0.0         4.5         5.0  \n43351           0.0         4.5        14.0  \n43350           0.0         4.5         9.0  \n9068            NaN         NaN         NaN  \n\n[187976 rows x 19 columns]",
      "text/html": "<div>\n<style scoped>\n    .dataframe tbody tr th:only-of-type {\n        vertical-align: middle;\n    }\n\n    .dataframe tbody tr th {\n        vertical-align: top;\n    }\n\n    .dataframe thead th {\n        text-align: right;\n    }\n</style>\n<table border=\"1\" class=\"dataframe\">\n  <thead>\n    <tr style=\"text-align: right;\">\n      <th></th>\n      <th>code</th>\n      <th>player</th>\n      <th>season</th>\n      <th>element</th>\n      <th>position</th>\n      <th>team</th>\n      <th>fixture</th>\n      <th>kickoff_time</th>\n      <th>selected</th>\n      <th>transfers_balance</th>\n      <th>transfers_in</th>\n      <th>transfers_out</th>\n      <th>cost</th>\n      <th>cost_finish</th>\n      <th>cost_change_start</th>\n      <th>cost_start</th>\n      <th>cost_change</th>\n      <th>cost_prior</th>\n      <th>time_frame</th>\n    </tr>\n  </thead>\n  <tbody>\n    <tr>\n      <th>105618</th>\n      <td>1616</td>\n      <td>Manninger</td>\n      <td>2016-17</td>\n      <td>524</td>\n      <td>GKP</td>\n      <td>LIV</td>\n      <td>8</td>\n      <td>2016-08-14 15:00:00+00:00</td>\n      <td>0</td>\n      <td>0</td>\n      <td>0</td>\n      <td>0</td>\n      <td>4.0</td>\n      <td>4.0</td>\n      <td>0.0</td>\n      <td>4.0</td>\n      <td>NaN</td>\n      <td>NaN</td>\n      <td>NaN</td>\n    </tr>\n    <tr>\n      <th>105617</th>\n      <td>1616</td>\n      <td>Manninger</td>\n      <td>2016-17</td>\n      <td>524</td>\n      <td>GKP</td>\n      <td>LIV</td>\n      <td>12</td>\n      <td>2016-08-20 14:00:00+00:00</td>\n      <td>5408</td>\n      <td>883</td>\n      <td>1014</td>\n      <td>131</td>\n      <td>4.0</td>\n      <td>4.0</td>\n      <td>0.0</td>\n      <td>4.0</td>\n      <td>0.0</td>\n      <td>4.0</td>\n      <td>6.0</td>\n    </tr>\n    <tr>\n      <th>105616</th>\n      <td>1616</td>\n      <td>Manninger</td>\n      <td>2016-17</td>\n      <td>524</td>\n      <td>GKP</td>\n      <td>LIV</td>\n      <td>27</td>\n      <td>2016-08-27 11:30:00+00:00</td>\n      <td>9242</td>\n      <td>1079</td>\n      <td>1592</td>\n      <td>513</td>\n      <td>4.0</td>\n      <td>4.0</td>\n      <td>0.0</td>\n      <td>4.0</td>\n      <td>0.0</td>\n      <td>4.0</td>\n      <td>7.0</td>\n    </tr>\n    <tr>\n      <th>105615</th>\n      <td>1616</td>\n      <td>Manninger</td>\n      <td>2016-17</td>\n      <td>524</td>\n      <td>GKP</td>\n      <td>LIV</td>\n      <td>34</td>\n      <td>2016-09-10 16:30:00+00:00</td>\n      <td>11719</td>\n      <td>926</td>\n      <td>1518</td>\n      <td>592</td>\n      <td>4.0</td>\n      <td>4.0</td>\n      <td>0.0</td>\n      <td>4.0</td>\n      <td>0.0</td>\n      <td>4.0</td>\n      <td>14.0</td>\n    </tr>\n    <tr>\n      <th>105614</th>\n      <td>1616</td>\n      <td>Manninger</td>\n      <td>2016-17</td>\n      <td>524</td>\n      <td>GKP</td>\n      <td>LIV</td>\n      <td>41</td>\n      <td>2016-09-16 19:00:00+00:00</td>\n      <td>12589</td>\n      <td>288</td>\n      <td>632</td>\n      <td>344</td>\n      <td>4.0</td>\n      <td>4.0</td>\n      <td>0.0</td>\n      <td>4.0</td>\n      <td>0.0</td>\n      <td>4.0</td>\n      <td>6.0</td>\n    </tr>\n    <tr>\n      <th>...</th>\n      <td>...</td>\n      <td>...</td>\n      <td>...</td>\n      <td>...</td>\n      <td>...</td>\n      <td>...</td>\n      <td>...</td>\n      <td>...</td>\n      <td>...</td>\n      <td>...</td>\n      <td>...</td>\n      <td>...</td>\n      <td>...</td>\n      <td>...</td>\n      <td>...</td>\n      <td>...</td>\n      <td>...</td>\n      <td>...</td>\n      <td>...</td>\n    </tr>\n    <tr>\n      <th>43353</th>\n      <td>617054</td>\n      <td>Deivid</td>\n      <td>2023-24</td>\n      <td>677</td>\n      <td>FWD</td>\n      <td>CHE</td>\n      <td>232</td>\n      <td>2024-02-12 20:00:00+00:00</td>\n      <td>6988</td>\n      <td>21</td>\n      <td>218</td>\n      <td>197</td>\n      <td>4.5</td>\n      <td>4.5</td>\n      <td>0.0</td>\n      <td>4.5</td>\n      <td>0.0</td>\n      <td>4.5</td>\n      <td>8.0</td>\n    </tr>\n    <tr>\n      <th>43352</th>\n      <td>617054</td>\n      <td>Deivid</td>\n      <td>2023-24</td>\n      <td>677</td>\n      <td>FWD</td>\n      <td>CHE</td>\n      <td>246</td>\n      <td>2024-02-17 17:30:00+00:00</td>\n      <td>7314</td>\n      <td>178</td>\n      <td>405</td>\n      <td>227</td>\n      <td>4.5</td>\n      <td>4.5</td>\n      <td>0.0</td>\n      <td>4.5</td>\n      <td>0.0</td>\n      <td>4.5</td>\n      <td>5.0</td>\n    </tr>\n    <tr>\n      <th>43351</th>\n      <td>617054</td>\n      <td>Deivid</td>\n      <td>2023-24</td>\n      <td>677</td>\n      <td>FWD</td>\n      <td>CHE</td>\n      <td>261</td>\n      <td>2024-03-02 15:00:00+00:00</td>\n      <td>7480</td>\n      <td>51</td>\n      <td>213</td>\n      <td>162</td>\n      <td>4.5</td>\n      <td>4.5</td>\n      <td>0.0</td>\n      <td>4.5</td>\n      <td>0.0</td>\n      <td>4.5</td>\n      <td>14.0</td>\n    </tr>\n    <tr>\n      <th>43350</th>\n      <td>617054</td>\n      <td>Deivid</td>\n      <td>2023-24</td>\n      <td>677</td>\n      <td>FWD</td>\n      <td>CHE</td>\n      <td>275</td>\n      <td>2024-03-11 20:00:00+00:00</td>\n      <td>7429</td>\n      <td>-125</td>\n      <td>108</td>\n      <td>233</td>\n      <td>4.5</td>\n      <td>4.5</td>\n      <td>0.0</td>\n      <td>4.5</td>\n      <td>0.0</td>\n      <td>4.5</td>\n      <td>9.0</td>\n    </tr>\n    <tr>\n      <th>9068</th>\n      <td>622536</td>\n      <td>Arthur</td>\n      <td>2023-24</td>\n      <td>834</td>\n      <td>DEF</td>\n      <td>BRE</td>\n      <td>271</td>\n      <td>2024-03-09 17:30:00+00:00</td>\n      <td>0</td>\n      <td>0</td>\n      <td>0</td>\n      <td>0</td>\n      <td>4.0</td>\n      <td>4.0</td>\n      <td>0.0</td>\n      <td>4.0</td>\n      <td>NaN</td>\n      <td>NaN</td>\n      <td>NaN</td>\n    </tr>\n  </tbody>\n</table>\n<p>187976 rows × 19 columns</p>\n</div>"
     },
     "execution_count": 11,
     "metadata": {},
     "output_type": "execute_result"
    }
   ],
   "source": [
    "df"
   ],
   "metadata": {
    "collapsed": false,
    "ExecuteTime": {
     "end_time": "2024-03-18T22:14:40.735182Z",
     "start_time": "2024-03-18T22:14:40.690278Z"
    }
   },
   "execution_count": 11
  },
  {
   "cell_type": "code",
   "outputs": [],
   "source": [
    "df_transformed = df[df[\"cost_change\"].notnull()][[\"position\", \"selected\", \"transfers_balance\", \"transfers_in\", \"transfers_out\", \"cost_prior\", \"cost_start\", \"time_frame\", \"cost_change\"]].copy()"
   ],
   "metadata": {
    "collapsed": false,
    "ExecuteTime": {
     "end_time": "2024-03-18T22:14:41.094689Z",
     "start_time": "2024-03-18T22:14:40.738013Z"
    }
   },
   "execution_count": 12
  },
  {
   "cell_type": "code",
   "outputs": [
    {
     "data": {
      "text/plain": "array([  6.,   7.,  14.,   8.,  16.,   5.,  13.,   3.,   4.,   2.,  10.,\n        15.,  11.,   9.,  12.,  21.,  20.,  19.,  22.,  17., 103., 102.,\n       100., 105., 106., 107., 101.,  18., 104.,   0.,  23.,   1.,  27.,\n        44.,  28.,  46.,  43.,  45.,  29.])"
     },
     "execution_count": 13,
     "metadata": {},
     "output_type": "execute_result"
    }
   ],
   "source": [
    "df_transformed['time_frame'].unique()"
   ],
   "metadata": {
    "collapsed": false,
    "ExecuteTime": {
     "end_time": "2024-03-18T22:14:41.265550Z",
     "start_time": "2024-03-18T22:14:41.097719Z"
    }
   },
   "execution_count": 13
  },
  {
   "cell_type": "code",
   "outputs": [],
   "source": [
    "df_transformed = df_transformed[df_transformed['time_frame'] < 100]"
   ],
   "metadata": {
    "collapsed": false,
    "ExecuteTime": {
     "end_time": "2024-03-18T22:14:43.362783Z",
     "start_time": "2024-03-18T22:14:43.328107Z"
    }
   },
   "execution_count": 14
  },
  {
   "cell_type": "code",
   "outputs": [
    {
     "data": {
      "text/plain": "       position  selected  transfers_balance  transfers_in  transfers_out  \\\n105617      GKP      5408                883          1014            131   \n105616      GKP      9242               1079          1592            513   \n105615      GKP     11719                926          1518            592   \n105614      GKP     12589                288           632            344   \n105613      GKP     13356                252           767            515   \n...         ...       ...                ...           ...            ...   \n43354       FWD      6885                -34            87            121   \n43353       FWD      6988                 21           218            197   \n43352       FWD      7314                178           405            227   \n43351       FWD      7480                 51           213            162   \n43350       FWD      7429               -125           108            233   \n\n        cost_prior  cost_start  time_frame  cost_change  \n105617         4.0         4.0         6.0          0.0  \n105616         4.0         4.0         7.0          0.0  \n105615         4.0         4.0        14.0          0.0  \n105614         4.0         4.0         6.0          0.0  \n105613         4.0         4.0         8.0          0.0  \n...            ...         ...         ...          ...  \n43354          4.5         4.5         4.0          0.0  \n43353          4.5         4.5         8.0          0.0  \n43352          4.5         4.5         5.0          0.0  \n43351          4.5         4.5        14.0          0.0  \n43350          4.5         4.5         9.0          0.0  \n\n[181663 rows x 9 columns]",
      "text/html": "<div>\n<style scoped>\n    .dataframe tbody tr th:only-of-type {\n        vertical-align: middle;\n    }\n\n    .dataframe tbody tr th {\n        vertical-align: top;\n    }\n\n    .dataframe thead th {\n        text-align: right;\n    }\n</style>\n<table border=\"1\" class=\"dataframe\">\n  <thead>\n    <tr style=\"text-align: right;\">\n      <th></th>\n      <th>position</th>\n      <th>selected</th>\n      <th>transfers_balance</th>\n      <th>transfers_in</th>\n      <th>transfers_out</th>\n      <th>cost_prior</th>\n      <th>cost_start</th>\n      <th>time_frame</th>\n      <th>cost_change</th>\n    </tr>\n  </thead>\n  <tbody>\n    <tr>\n      <th>105617</th>\n      <td>GKP</td>\n      <td>5408</td>\n      <td>883</td>\n      <td>1014</td>\n      <td>131</td>\n      <td>4.0</td>\n      <td>4.0</td>\n      <td>6.0</td>\n      <td>0.0</td>\n    </tr>\n    <tr>\n      <th>105616</th>\n      <td>GKP</td>\n      <td>9242</td>\n      <td>1079</td>\n      <td>1592</td>\n      <td>513</td>\n      <td>4.0</td>\n      <td>4.0</td>\n      <td>7.0</td>\n      <td>0.0</td>\n    </tr>\n    <tr>\n      <th>105615</th>\n      <td>GKP</td>\n      <td>11719</td>\n      <td>926</td>\n      <td>1518</td>\n      <td>592</td>\n      <td>4.0</td>\n      <td>4.0</td>\n      <td>14.0</td>\n      <td>0.0</td>\n    </tr>\n    <tr>\n      <th>105614</th>\n      <td>GKP</td>\n      <td>12589</td>\n      <td>288</td>\n      <td>632</td>\n      <td>344</td>\n      <td>4.0</td>\n      <td>4.0</td>\n      <td>6.0</td>\n      <td>0.0</td>\n    </tr>\n    <tr>\n      <th>105613</th>\n      <td>GKP</td>\n      <td>13356</td>\n      <td>252</td>\n      <td>767</td>\n      <td>515</td>\n      <td>4.0</td>\n      <td>4.0</td>\n      <td>8.0</td>\n      <td>0.0</td>\n    </tr>\n    <tr>\n      <th>...</th>\n      <td>...</td>\n      <td>...</td>\n      <td>...</td>\n      <td>...</td>\n      <td>...</td>\n      <td>...</td>\n      <td>...</td>\n      <td>...</td>\n      <td>...</td>\n    </tr>\n    <tr>\n      <th>43354</th>\n      <td>FWD</td>\n      <td>6885</td>\n      <td>-34</td>\n      <td>87</td>\n      <td>121</td>\n      <td>4.5</td>\n      <td>4.5</td>\n      <td>4.0</td>\n      <td>0.0</td>\n    </tr>\n    <tr>\n      <th>43353</th>\n      <td>FWD</td>\n      <td>6988</td>\n      <td>21</td>\n      <td>218</td>\n      <td>197</td>\n      <td>4.5</td>\n      <td>4.5</td>\n      <td>8.0</td>\n      <td>0.0</td>\n    </tr>\n    <tr>\n      <th>43352</th>\n      <td>FWD</td>\n      <td>7314</td>\n      <td>178</td>\n      <td>405</td>\n      <td>227</td>\n      <td>4.5</td>\n      <td>4.5</td>\n      <td>5.0</td>\n      <td>0.0</td>\n    </tr>\n    <tr>\n      <th>43351</th>\n      <td>FWD</td>\n      <td>7480</td>\n      <td>51</td>\n      <td>213</td>\n      <td>162</td>\n      <td>4.5</td>\n      <td>4.5</td>\n      <td>14.0</td>\n      <td>0.0</td>\n    </tr>\n    <tr>\n      <th>43350</th>\n      <td>FWD</td>\n      <td>7429</td>\n      <td>-125</td>\n      <td>108</td>\n      <td>233</td>\n      <td>4.5</td>\n      <td>4.5</td>\n      <td>9.0</td>\n      <td>0.0</td>\n    </tr>\n  </tbody>\n</table>\n<p>181663 rows × 9 columns</p>\n</div>"
     },
     "execution_count": 15,
     "metadata": {},
     "output_type": "execute_result"
    }
   ],
   "source": [
    "df_transformed"
   ],
   "metadata": {
    "collapsed": false,
    "ExecuteTime": {
     "end_time": "2024-03-18T22:14:44.329335Z",
     "start_time": "2024-03-18T22:14:44.307282Z"
    }
   },
   "execution_count": 15
  },
  {
   "cell_type": "code",
   "outputs": [
    {
     "data": {
      "text/plain": "array([ 0. ,  0.1, -0.1,  0.2, -0.2,  0.3, -0.3, -0.4])"
     },
     "execution_count": 16,
     "metadata": {},
     "output_type": "execute_result"
    }
   ],
   "source": [
    "df_transformed[\"cost_change\"].unique()"
   ],
   "metadata": {
    "collapsed": false,
    "ExecuteTime": {
     "end_time": "2024-03-18T22:14:55.907949Z",
     "start_time": "2024-03-18T22:14:55.874323Z"
    }
   },
   "execution_count": 16
  },
  {
   "cell_type": "code",
   "outputs": [
    {
     "data": {
      "text/plain": "       position  selected  transfers_balance  transfers_in  transfers_out  \\\n78007       FWD   1744404             541779        544685           2906   \n175089      MID    822834             394756        397836           3080   \n163703      MID   1443411             385666        387509           1843   \n28226       MID   1539634             424894        434676           9782   \n70000       MID    541667             474796        478420           3624   \n42575       MID    809472             402374        416228          13854   \n86842       FWD    762295             317082        338058          20976   \n4751        MID    944898             560629        576071          15442   \n106151      MID    774538             363369        366258           2889   \n106149      MID   1114794             384254        386932           2678   \n2384        FWD   1322677             773016        784640          11624   \n2380        FWD   1223783             713388        735568          22180   \n9695        FWD    709722             346194        362093          15899   \n102721      FWD   1797292             427522        444417          16895   \n175018      MID    987895             737984        772105          34121   \n9672        FWD   2085226             623808        637087          13279   \n139938      FWD   2226233             828340        843341          15001   \n177386      FWD   1695693              10727        137583         126856   \n44496       FWD   3355371             144226        173056          28830   \n67187       MID   1495599             934168        943988           9820   \n42294       MID   2745864            1674116       1689375          15259   \n157979      FWD   2229854             526330        554290          27960   \n\n        cost_prior  cost_start  time_frame  cost_change  \n78007         11.2        11.5         9.0          0.3  \n175089         7.7         7.5         7.0          0.3  \n163703        11.4        11.0         7.0          0.3  \n28226          4.8         4.5         8.0          0.3  \n70000          5.4         5.5         7.0          0.3  \n42575         10.5        10.5         7.0          0.3  \n86842         10.9        11.0         8.0          0.3  \n4751           8.3         8.5        10.0          0.3  \n106151         9.1         9.0        16.0          0.3  \n106149         9.4         9.0         8.0          0.3  \n2384          11.4        11.5         7.0          0.3  \n2380          11.5        11.5         7.0          0.3  \n9695          10.4        10.5        21.0          0.3  \n102721        11.2        11.5        21.0          0.3  \n175018         6.5         6.5         7.0          0.3  \n9672          11.1        11.0         3.0          0.3  \n139938         7.3         7.0         6.0          0.3  \n177386         7.6         7.5        12.0          0.3  \n44496          5.7         5.0        18.0          0.3  \n67187          6.9         7.0         7.0          0.3  \n42294         10.3        10.5        18.0          0.3  \n157979         6.5         6.5        14.0          0.3  ",
      "text/html": "<div>\n<style scoped>\n    .dataframe tbody tr th:only-of-type {\n        vertical-align: middle;\n    }\n\n    .dataframe tbody tr th {\n        vertical-align: top;\n    }\n\n    .dataframe thead th {\n        text-align: right;\n    }\n</style>\n<table border=\"1\" class=\"dataframe\">\n  <thead>\n    <tr style=\"text-align: right;\">\n      <th></th>\n      <th>position</th>\n      <th>selected</th>\n      <th>transfers_balance</th>\n      <th>transfers_in</th>\n      <th>transfers_out</th>\n      <th>cost_prior</th>\n      <th>cost_start</th>\n      <th>time_frame</th>\n      <th>cost_change</th>\n    </tr>\n  </thead>\n  <tbody>\n    <tr>\n      <th>78007</th>\n      <td>FWD</td>\n      <td>1744404</td>\n      <td>541779</td>\n      <td>544685</td>\n      <td>2906</td>\n      <td>11.2</td>\n      <td>11.5</td>\n      <td>9.0</td>\n      <td>0.3</td>\n    </tr>\n    <tr>\n      <th>175089</th>\n      <td>MID</td>\n      <td>822834</td>\n      <td>394756</td>\n      <td>397836</td>\n      <td>3080</td>\n      <td>7.7</td>\n      <td>7.5</td>\n      <td>7.0</td>\n      <td>0.3</td>\n    </tr>\n    <tr>\n      <th>163703</th>\n      <td>MID</td>\n      <td>1443411</td>\n      <td>385666</td>\n      <td>387509</td>\n      <td>1843</td>\n      <td>11.4</td>\n      <td>11.0</td>\n      <td>7.0</td>\n      <td>0.3</td>\n    </tr>\n    <tr>\n      <th>28226</th>\n      <td>MID</td>\n      <td>1539634</td>\n      <td>424894</td>\n      <td>434676</td>\n      <td>9782</td>\n      <td>4.8</td>\n      <td>4.5</td>\n      <td>8.0</td>\n      <td>0.3</td>\n    </tr>\n    <tr>\n      <th>70000</th>\n      <td>MID</td>\n      <td>541667</td>\n      <td>474796</td>\n      <td>478420</td>\n      <td>3624</td>\n      <td>5.4</td>\n      <td>5.5</td>\n      <td>7.0</td>\n      <td>0.3</td>\n    </tr>\n    <tr>\n      <th>42575</th>\n      <td>MID</td>\n      <td>809472</td>\n      <td>402374</td>\n      <td>416228</td>\n      <td>13854</td>\n      <td>10.5</td>\n      <td>10.5</td>\n      <td>7.0</td>\n      <td>0.3</td>\n    </tr>\n    <tr>\n      <th>86842</th>\n      <td>FWD</td>\n      <td>762295</td>\n      <td>317082</td>\n      <td>338058</td>\n      <td>20976</td>\n      <td>10.9</td>\n      <td>11.0</td>\n      <td>8.0</td>\n      <td>0.3</td>\n    </tr>\n    <tr>\n      <th>4751</th>\n      <td>MID</td>\n      <td>944898</td>\n      <td>560629</td>\n      <td>576071</td>\n      <td>15442</td>\n      <td>8.3</td>\n      <td>8.5</td>\n      <td>10.0</td>\n      <td>0.3</td>\n    </tr>\n    <tr>\n      <th>106151</th>\n      <td>MID</td>\n      <td>774538</td>\n      <td>363369</td>\n      <td>366258</td>\n      <td>2889</td>\n      <td>9.1</td>\n      <td>9.0</td>\n      <td>16.0</td>\n      <td>0.3</td>\n    </tr>\n    <tr>\n      <th>106149</th>\n      <td>MID</td>\n      <td>1114794</td>\n      <td>384254</td>\n      <td>386932</td>\n      <td>2678</td>\n      <td>9.4</td>\n      <td>9.0</td>\n      <td>8.0</td>\n      <td>0.3</td>\n    </tr>\n    <tr>\n      <th>2384</th>\n      <td>FWD</td>\n      <td>1322677</td>\n      <td>773016</td>\n      <td>784640</td>\n      <td>11624</td>\n      <td>11.4</td>\n      <td>11.5</td>\n      <td>7.0</td>\n      <td>0.3</td>\n    </tr>\n    <tr>\n      <th>2380</th>\n      <td>FWD</td>\n      <td>1223783</td>\n      <td>713388</td>\n      <td>735568</td>\n      <td>22180</td>\n      <td>11.5</td>\n      <td>11.5</td>\n      <td>7.0</td>\n      <td>0.3</td>\n    </tr>\n    <tr>\n      <th>9695</th>\n      <td>FWD</td>\n      <td>709722</td>\n      <td>346194</td>\n      <td>362093</td>\n      <td>15899</td>\n      <td>10.4</td>\n      <td>10.5</td>\n      <td>21.0</td>\n      <td>0.3</td>\n    </tr>\n    <tr>\n      <th>102721</th>\n      <td>FWD</td>\n      <td>1797292</td>\n      <td>427522</td>\n      <td>444417</td>\n      <td>16895</td>\n      <td>11.2</td>\n      <td>11.5</td>\n      <td>21.0</td>\n      <td>0.3</td>\n    </tr>\n    <tr>\n      <th>175018</th>\n      <td>MID</td>\n      <td>987895</td>\n      <td>737984</td>\n      <td>772105</td>\n      <td>34121</td>\n      <td>6.5</td>\n      <td>6.5</td>\n      <td>7.0</td>\n      <td>0.3</td>\n    </tr>\n    <tr>\n      <th>9672</th>\n      <td>FWD</td>\n      <td>2085226</td>\n      <td>623808</td>\n      <td>637087</td>\n      <td>13279</td>\n      <td>11.1</td>\n      <td>11.0</td>\n      <td>3.0</td>\n      <td>0.3</td>\n    </tr>\n    <tr>\n      <th>139938</th>\n      <td>FWD</td>\n      <td>2226233</td>\n      <td>828340</td>\n      <td>843341</td>\n      <td>15001</td>\n      <td>7.3</td>\n      <td>7.0</td>\n      <td>6.0</td>\n      <td>0.3</td>\n    </tr>\n    <tr>\n      <th>177386</th>\n      <td>FWD</td>\n      <td>1695693</td>\n      <td>10727</td>\n      <td>137583</td>\n      <td>126856</td>\n      <td>7.6</td>\n      <td>7.5</td>\n      <td>12.0</td>\n      <td>0.3</td>\n    </tr>\n    <tr>\n      <th>44496</th>\n      <td>FWD</td>\n      <td>3355371</td>\n      <td>144226</td>\n      <td>173056</td>\n      <td>28830</td>\n      <td>5.7</td>\n      <td>5.0</td>\n      <td>18.0</td>\n      <td>0.3</td>\n    </tr>\n    <tr>\n      <th>67187</th>\n      <td>MID</td>\n      <td>1495599</td>\n      <td>934168</td>\n      <td>943988</td>\n      <td>9820</td>\n      <td>6.9</td>\n      <td>7.0</td>\n      <td>7.0</td>\n      <td>0.3</td>\n    </tr>\n    <tr>\n      <th>42294</th>\n      <td>MID</td>\n      <td>2745864</td>\n      <td>1674116</td>\n      <td>1689375</td>\n      <td>15259</td>\n      <td>10.3</td>\n      <td>10.5</td>\n      <td>18.0</td>\n      <td>0.3</td>\n    </tr>\n    <tr>\n      <th>157979</th>\n      <td>FWD</td>\n      <td>2229854</td>\n      <td>526330</td>\n      <td>554290</td>\n      <td>27960</td>\n      <td>6.5</td>\n      <td>6.5</td>\n      <td>14.0</td>\n      <td>0.3</td>\n    </tr>\n  </tbody>\n</table>\n</div>"
     },
     "execution_count": 17,
     "metadata": {},
     "output_type": "execute_result"
    }
   ],
   "source": [
    "df_transformed[df_transformed[\"cost_change\"] == 0.3]"
   ],
   "metadata": {
    "collapsed": false,
    "ExecuteTime": {
     "end_time": "2024-03-18T22:14:57.728475Z",
     "start_time": "2024-03-18T22:14:57.678279Z"
    }
   },
   "execution_count": 17
  },
  {
   "cell_type": "code",
   "outputs": [
    {
     "data": {
      "text/plain": "       code      player   season  element position team  fixture  \\\n9674  54694  Aubameyang  2018-19       23      FWD  ARS      131   \n9673  54694  Aubameyang  2018-19       23      FWD  ARS      145   \n9672  54694  Aubameyang  2018-19       23      FWD  ARS      151   \n9671  54694  Aubameyang  2018-19       23      FWD  ARS      167   \n\n                  kickoff_time  selected  transfers_balance  transfers_in  \\\n9674 2018-12-02 14:05:00+00:00    903681              16988         55744   \n9673 2018-12-05 20:00:00+00:00   1430386             510631        525322   \n9672 2018-12-08 15:00:00+00:00   2085226             623808        637087   \n9671 2018-12-16 13:30:00+00:00   2209190             139585        189127   \n\n      transfers_out  cost  cost_finish  cost_change_start  cost_start  \\\n9674          38756  10.9         10.8               -0.2        11.0   \n9673          14691  11.1         10.8               -0.2        11.0   \n9672          13279  11.4         10.8               -0.2        11.0   \n9671          49542  11.5         10.8               -0.2        11.0   \n\n      cost_change  cost_prior  time_frame  \n9674          0.0        10.9         7.0  \n9673          0.2        10.9         3.0  \n9672          0.3        11.1         3.0  \n9671          0.1        11.4         8.0  ",
      "text/html": "<div>\n<style scoped>\n    .dataframe tbody tr th:only-of-type {\n        vertical-align: middle;\n    }\n\n    .dataframe tbody tr th {\n        vertical-align: top;\n    }\n\n    .dataframe thead th {\n        text-align: right;\n    }\n</style>\n<table border=\"1\" class=\"dataframe\">\n  <thead>\n    <tr style=\"text-align: right;\">\n      <th></th>\n      <th>code</th>\n      <th>player</th>\n      <th>season</th>\n      <th>element</th>\n      <th>position</th>\n      <th>team</th>\n      <th>fixture</th>\n      <th>kickoff_time</th>\n      <th>selected</th>\n      <th>transfers_balance</th>\n      <th>transfers_in</th>\n      <th>transfers_out</th>\n      <th>cost</th>\n      <th>cost_finish</th>\n      <th>cost_change_start</th>\n      <th>cost_start</th>\n      <th>cost_change</th>\n      <th>cost_prior</th>\n      <th>time_frame</th>\n    </tr>\n  </thead>\n  <tbody>\n    <tr>\n      <th>9674</th>\n      <td>54694</td>\n      <td>Aubameyang</td>\n      <td>2018-19</td>\n      <td>23</td>\n      <td>FWD</td>\n      <td>ARS</td>\n      <td>131</td>\n      <td>2018-12-02 14:05:00+00:00</td>\n      <td>903681</td>\n      <td>16988</td>\n      <td>55744</td>\n      <td>38756</td>\n      <td>10.9</td>\n      <td>10.8</td>\n      <td>-0.2</td>\n      <td>11.0</td>\n      <td>0.0</td>\n      <td>10.9</td>\n      <td>7.0</td>\n    </tr>\n    <tr>\n      <th>9673</th>\n      <td>54694</td>\n      <td>Aubameyang</td>\n      <td>2018-19</td>\n      <td>23</td>\n      <td>FWD</td>\n      <td>ARS</td>\n      <td>145</td>\n      <td>2018-12-05 20:00:00+00:00</td>\n      <td>1430386</td>\n      <td>510631</td>\n      <td>525322</td>\n      <td>14691</td>\n      <td>11.1</td>\n      <td>10.8</td>\n      <td>-0.2</td>\n      <td>11.0</td>\n      <td>0.2</td>\n      <td>10.9</td>\n      <td>3.0</td>\n    </tr>\n    <tr>\n      <th>9672</th>\n      <td>54694</td>\n      <td>Aubameyang</td>\n      <td>2018-19</td>\n      <td>23</td>\n      <td>FWD</td>\n      <td>ARS</td>\n      <td>151</td>\n      <td>2018-12-08 15:00:00+00:00</td>\n      <td>2085226</td>\n      <td>623808</td>\n      <td>637087</td>\n      <td>13279</td>\n      <td>11.4</td>\n      <td>10.8</td>\n      <td>-0.2</td>\n      <td>11.0</td>\n      <td>0.3</td>\n      <td>11.1</td>\n      <td>3.0</td>\n    </tr>\n    <tr>\n      <th>9671</th>\n      <td>54694</td>\n      <td>Aubameyang</td>\n      <td>2018-19</td>\n      <td>23</td>\n      <td>FWD</td>\n      <td>ARS</td>\n      <td>167</td>\n      <td>2018-12-16 13:30:00+00:00</td>\n      <td>2209190</td>\n      <td>139585</td>\n      <td>189127</td>\n      <td>49542</td>\n      <td>11.5</td>\n      <td>10.8</td>\n      <td>-0.2</td>\n      <td>11.0</td>\n      <td>0.1</td>\n      <td>11.4</td>\n      <td>8.0</td>\n    </tr>\n  </tbody>\n</table>\n</div>"
     },
     "execution_count": 18,
     "metadata": {},
     "output_type": "execute_result"
    }
   ],
   "source": [
    "df.iloc[(9670 < df.index) & (df.index < 9675)]"
   ],
   "metadata": {
    "collapsed": false,
    "ExecuteTime": {
     "end_time": "2024-03-18T22:14:58.475649Z",
     "start_time": "2024-03-18T22:14:57.771196Z"
    }
   },
   "execution_count": 18
  },
  {
   "cell_type": "code",
   "outputs": [],
   "source": [
    "from sklearn.utils import resample\n",
    "\n",
    "pos_sample = resample(df_transformed[df_transformed['cost_change'] > 0], replace=False, n_samples=4000, random_state=42)\n",
    "neu_sample = resample(df_transformed[df_transformed['cost_change'] == 0], replace=False, n_samples=4000, random_state=42)\n",
    "neg_sample = resample(df_transformed[df_transformed['cost_change'] < 0], replace=False, n_samples=4000, random_state=42)\n",
    "\n",
    "sample = pd.concat([pos_sample, neu_sample, neg_sample], axis=0)"
   ],
   "metadata": {
    "collapsed": false,
    "ExecuteTime": {
     "end_time": "2024-03-18T22:18:17.884870Z",
     "start_time": "2024-03-18T22:18:17.766957Z"
    }
   },
   "execution_count": 20
  },
  {
   "cell_type": "code",
   "outputs": [
    {
     "data": {
      "text/plain": "       position  selected  transfers_balance  transfers_in  transfers_out  \\\n163690      MID   1176850             -14287         32067          46354   \n11476       MID    325748             145837        153618           7781   \n169673      DEF   4127650             810354        850872          40518   \n117936      MID    465592              35271         52406          17135   \n75575       DEF    912164             317143        361778          44635   \n...         ...       ...                ...           ...            ...   \n96836       DEF      2951               -371            11            382   \n181357      FWD    886652            -309536         23269         332805   \n43297       MID     16540               -167           286            453   \n49518       DEF      5913               -372            12            384   \n37130       DEF     56012              -7139          1435           8574   \n\n        cost_prior  cost_start  time_frame  cost_change  \n163690        11.5        11.0        15.0          0.1  \n11476          8.0         8.0         6.0          0.1  \n169673         6.5         6.5         6.0          0.2  \n117936         7.6         8.0         4.0          0.1  \n75575          4.7         4.5        13.0          0.1  \n...            ...         ...         ...          ...  \n96836          4.4         4.5         4.0         -0.1  \n181357         6.6         6.5        15.0         -0.1  \n43297          5.5         5.5         7.0         -0.1  \n49518          4.3         4.5         5.0         -0.1  \n37130          4.4         4.5        15.0         -0.1  \n\n[12000 rows x 9 columns]",
      "text/html": "<div>\n<style scoped>\n    .dataframe tbody tr th:only-of-type {\n        vertical-align: middle;\n    }\n\n    .dataframe tbody tr th {\n        vertical-align: top;\n    }\n\n    .dataframe thead th {\n        text-align: right;\n    }\n</style>\n<table border=\"1\" class=\"dataframe\">\n  <thead>\n    <tr style=\"text-align: right;\">\n      <th></th>\n      <th>position</th>\n      <th>selected</th>\n      <th>transfers_balance</th>\n      <th>transfers_in</th>\n      <th>transfers_out</th>\n      <th>cost_prior</th>\n      <th>cost_start</th>\n      <th>time_frame</th>\n      <th>cost_change</th>\n    </tr>\n  </thead>\n  <tbody>\n    <tr>\n      <th>163690</th>\n      <td>MID</td>\n      <td>1176850</td>\n      <td>-14287</td>\n      <td>32067</td>\n      <td>46354</td>\n      <td>11.5</td>\n      <td>11.0</td>\n      <td>15.0</td>\n      <td>0.1</td>\n    </tr>\n    <tr>\n      <th>11476</th>\n      <td>MID</td>\n      <td>325748</td>\n      <td>145837</td>\n      <td>153618</td>\n      <td>7781</td>\n      <td>8.0</td>\n      <td>8.0</td>\n      <td>6.0</td>\n      <td>0.1</td>\n    </tr>\n    <tr>\n      <th>169673</th>\n      <td>DEF</td>\n      <td>4127650</td>\n      <td>810354</td>\n      <td>850872</td>\n      <td>40518</td>\n      <td>6.5</td>\n      <td>6.5</td>\n      <td>6.0</td>\n      <td>0.2</td>\n    </tr>\n    <tr>\n      <th>117936</th>\n      <td>MID</td>\n      <td>465592</td>\n      <td>35271</td>\n      <td>52406</td>\n      <td>17135</td>\n      <td>7.6</td>\n      <td>8.0</td>\n      <td>4.0</td>\n      <td>0.1</td>\n    </tr>\n    <tr>\n      <th>75575</th>\n      <td>DEF</td>\n      <td>912164</td>\n      <td>317143</td>\n      <td>361778</td>\n      <td>44635</td>\n      <td>4.7</td>\n      <td>4.5</td>\n      <td>13.0</td>\n      <td>0.1</td>\n    </tr>\n    <tr>\n      <th>...</th>\n      <td>...</td>\n      <td>...</td>\n      <td>...</td>\n      <td>...</td>\n      <td>...</td>\n      <td>...</td>\n      <td>...</td>\n      <td>...</td>\n      <td>...</td>\n    </tr>\n    <tr>\n      <th>96836</th>\n      <td>DEF</td>\n      <td>2951</td>\n      <td>-371</td>\n      <td>11</td>\n      <td>382</td>\n      <td>4.4</td>\n      <td>4.5</td>\n      <td>4.0</td>\n      <td>-0.1</td>\n    </tr>\n    <tr>\n      <th>181357</th>\n      <td>FWD</td>\n      <td>886652</td>\n      <td>-309536</td>\n      <td>23269</td>\n      <td>332805</td>\n      <td>6.6</td>\n      <td>6.5</td>\n      <td>15.0</td>\n      <td>-0.1</td>\n    </tr>\n    <tr>\n      <th>43297</th>\n      <td>MID</td>\n      <td>16540</td>\n      <td>-167</td>\n      <td>286</td>\n      <td>453</td>\n      <td>5.5</td>\n      <td>5.5</td>\n      <td>7.0</td>\n      <td>-0.1</td>\n    </tr>\n    <tr>\n      <th>49518</th>\n      <td>DEF</td>\n      <td>5913</td>\n      <td>-372</td>\n      <td>12</td>\n      <td>384</td>\n      <td>4.3</td>\n      <td>4.5</td>\n      <td>5.0</td>\n      <td>-0.1</td>\n    </tr>\n    <tr>\n      <th>37130</th>\n      <td>DEF</td>\n      <td>56012</td>\n      <td>-7139</td>\n      <td>1435</td>\n      <td>8574</td>\n      <td>4.4</td>\n      <td>4.5</td>\n      <td>15.0</td>\n      <td>-0.1</td>\n    </tr>\n  </tbody>\n</table>\n<p>12000 rows × 9 columns</p>\n</div>"
     },
     "execution_count": 21,
     "metadata": {},
     "output_type": "execute_result"
    }
   ],
   "source": [
    "sample"
   ],
   "metadata": {
    "collapsed": false,
    "ExecuteTime": {
     "end_time": "2024-03-18T22:18:19.943048Z",
     "start_time": "2024-03-18T22:18:19.917460Z"
    }
   },
   "execution_count": 21
  },
  {
   "cell_type": "code",
   "outputs": [],
   "source": [
    "X = sample.drop(\"cost_change\", axis=1).copy()\n",
    "y = sample[\"cost_change\"].apply(lambda x: 1 if x > 0 else -1 if x < 0 else 0).copy()"
   ],
   "metadata": {
    "collapsed": false,
    "ExecuteTime": {
     "end_time": "2024-03-18T22:18:24.038212Z",
     "start_time": "2024-03-18T22:18:23.993947Z"
    }
   },
   "execution_count": 22
  },
  {
   "cell_type": "code",
   "outputs": [
    {
     "data": {
      "text/plain": "       position  selected  transfers_balance  transfers_in  transfers_out  \\\n163690      MID   1176850             -14287         32067          46354   \n11476       MID    325748             145837        153618           7781   \n169673      DEF   4127650             810354        850872          40518   \n117936      MID    465592              35271         52406          17135   \n75575       DEF    912164             317143        361778          44635   \n...         ...       ...                ...           ...            ...   \n96836       DEF      2951               -371            11            382   \n181357      FWD    886652            -309536         23269         332805   \n43297       MID     16540               -167           286            453   \n49518       DEF      5913               -372            12            384   \n37130       DEF     56012              -7139          1435           8574   \n\n        cost_prior  cost_start  time_frame  \n163690        11.5        11.0        15.0  \n11476          8.0         8.0         6.0  \n169673         6.5         6.5         6.0  \n117936         7.6         8.0         4.0  \n75575          4.7         4.5        13.0  \n...            ...         ...         ...  \n96836          4.4         4.5         4.0  \n181357         6.6         6.5        15.0  \n43297          5.5         5.5         7.0  \n49518          4.3         4.5         5.0  \n37130          4.4         4.5        15.0  \n\n[12000 rows x 8 columns]",
      "text/html": "<div>\n<style scoped>\n    .dataframe tbody tr th:only-of-type {\n        vertical-align: middle;\n    }\n\n    .dataframe tbody tr th {\n        vertical-align: top;\n    }\n\n    .dataframe thead th {\n        text-align: right;\n    }\n</style>\n<table border=\"1\" class=\"dataframe\">\n  <thead>\n    <tr style=\"text-align: right;\">\n      <th></th>\n      <th>position</th>\n      <th>selected</th>\n      <th>transfers_balance</th>\n      <th>transfers_in</th>\n      <th>transfers_out</th>\n      <th>cost_prior</th>\n      <th>cost_start</th>\n      <th>time_frame</th>\n    </tr>\n  </thead>\n  <tbody>\n    <tr>\n      <th>163690</th>\n      <td>MID</td>\n      <td>1176850</td>\n      <td>-14287</td>\n      <td>32067</td>\n      <td>46354</td>\n      <td>11.5</td>\n      <td>11.0</td>\n      <td>15.0</td>\n    </tr>\n    <tr>\n      <th>11476</th>\n      <td>MID</td>\n      <td>325748</td>\n      <td>145837</td>\n      <td>153618</td>\n      <td>7781</td>\n      <td>8.0</td>\n      <td>8.0</td>\n      <td>6.0</td>\n    </tr>\n    <tr>\n      <th>169673</th>\n      <td>DEF</td>\n      <td>4127650</td>\n      <td>810354</td>\n      <td>850872</td>\n      <td>40518</td>\n      <td>6.5</td>\n      <td>6.5</td>\n      <td>6.0</td>\n    </tr>\n    <tr>\n      <th>117936</th>\n      <td>MID</td>\n      <td>465592</td>\n      <td>35271</td>\n      <td>52406</td>\n      <td>17135</td>\n      <td>7.6</td>\n      <td>8.0</td>\n      <td>4.0</td>\n    </tr>\n    <tr>\n      <th>75575</th>\n      <td>DEF</td>\n      <td>912164</td>\n      <td>317143</td>\n      <td>361778</td>\n      <td>44635</td>\n      <td>4.7</td>\n      <td>4.5</td>\n      <td>13.0</td>\n    </tr>\n    <tr>\n      <th>...</th>\n      <td>...</td>\n      <td>...</td>\n      <td>...</td>\n      <td>...</td>\n      <td>...</td>\n      <td>...</td>\n      <td>...</td>\n      <td>...</td>\n    </tr>\n    <tr>\n      <th>96836</th>\n      <td>DEF</td>\n      <td>2951</td>\n      <td>-371</td>\n      <td>11</td>\n      <td>382</td>\n      <td>4.4</td>\n      <td>4.5</td>\n      <td>4.0</td>\n    </tr>\n    <tr>\n      <th>181357</th>\n      <td>FWD</td>\n      <td>886652</td>\n      <td>-309536</td>\n      <td>23269</td>\n      <td>332805</td>\n      <td>6.6</td>\n      <td>6.5</td>\n      <td>15.0</td>\n    </tr>\n    <tr>\n      <th>43297</th>\n      <td>MID</td>\n      <td>16540</td>\n      <td>-167</td>\n      <td>286</td>\n      <td>453</td>\n      <td>5.5</td>\n      <td>5.5</td>\n      <td>7.0</td>\n    </tr>\n    <tr>\n      <th>49518</th>\n      <td>DEF</td>\n      <td>5913</td>\n      <td>-372</td>\n      <td>12</td>\n      <td>384</td>\n      <td>4.3</td>\n      <td>4.5</td>\n      <td>5.0</td>\n    </tr>\n    <tr>\n      <th>37130</th>\n      <td>DEF</td>\n      <td>56012</td>\n      <td>-7139</td>\n      <td>1435</td>\n      <td>8574</td>\n      <td>4.4</td>\n      <td>4.5</td>\n      <td>15.0</td>\n    </tr>\n  </tbody>\n</table>\n<p>12000 rows × 8 columns</p>\n</div>"
     },
     "execution_count": 23,
     "metadata": {},
     "output_type": "execute_result"
    }
   ],
   "source": [
    "X"
   ],
   "metadata": {
    "collapsed": false,
    "ExecuteTime": {
     "end_time": "2024-03-18T22:18:26.307003Z",
     "start_time": "2024-03-18T22:18:26.273833Z"
    }
   },
   "execution_count": 23
  },
  {
   "cell_type": "code",
   "outputs": [
    {
     "data": {
      "text/plain": "array([15.,  6.,  4., 13.,  3.,  7., 11., 20.,  5.,  8., 14.,  9., 16.,\n        2., 10., 12., 27., 22., 21., 17., 44., 18., 19., 28., 29.,  0.,\n       43., 45., 23., 46.])"
     },
     "execution_count": 24,
     "metadata": {},
     "output_type": "execute_result"
    }
   ],
   "source": [
    "X['time_frame'].unique()"
   ],
   "metadata": {
    "collapsed": false,
    "ExecuteTime": {
     "end_time": "2024-03-18T22:18:28.010951Z",
     "start_time": "2024-03-18T22:18:27.998310Z"
    }
   },
   "execution_count": 24
  },
  {
   "cell_type": "code",
   "outputs": [],
   "source": [
    "# One-Hot Encoding\n",
    "\n",
    "X_encoded = pd.get_dummies(X, columns=['position'])"
   ],
   "metadata": {
    "collapsed": false,
    "ExecuteTime": {
     "end_time": "2024-03-18T22:18:29.440741Z",
     "start_time": "2024-03-18T22:18:29.404105Z"
    }
   },
   "execution_count": 25
  },
  {
   "cell_type": "code",
   "outputs": [],
   "source": [
    "# Centering & Scaling\n",
    "\n",
    "from sklearn.model_selection import train_test_split\n",
    "from sklearn.preprocessing import scale\n",
    "\n",
    "X_train, X_test, y_train, y_test = train_test_split(X_encoded, y, random_state=42)\n",
    "X_train_scaled = scale(X_train)\n",
    "X_test_scaled = scale(X_test)"
   ],
   "metadata": {
    "collapsed": false,
    "ExecuteTime": {
     "end_time": "2024-03-18T22:18:33.187514Z",
     "start_time": "2024-03-18T22:18:30.584040Z"
    }
   },
   "execution_count": 26
  },
  {
   "cell_type": "code",
   "outputs": [
    {
     "data": {
      "text/plain": "SVC(random_state=42)",
      "text/html": "<style>#sk-container-id-1 {color: black;}#sk-container-id-1 pre{padding: 0;}#sk-container-id-1 div.sk-toggleable {background-color: white;}#sk-container-id-1 label.sk-toggleable__label {cursor: pointer;display: block;width: 100%;margin-bottom: 0;padding: 0.3em;box-sizing: border-box;text-align: center;}#sk-container-id-1 label.sk-toggleable__label-arrow:before {content: \"▸\";float: left;margin-right: 0.25em;color: #696969;}#sk-container-id-1 label.sk-toggleable__label-arrow:hover:before {color: black;}#sk-container-id-1 div.sk-estimator:hover label.sk-toggleable__label-arrow:before {color: black;}#sk-container-id-1 div.sk-toggleable__content {max-height: 0;max-width: 0;overflow: hidden;text-align: left;background-color: #f0f8ff;}#sk-container-id-1 div.sk-toggleable__content pre {margin: 0.2em;color: black;border-radius: 0.25em;background-color: #f0f8ff;}#sk-container-id-1 input.sk-toggleable__control:checked~div.sk-toggleable__content {max-height: 200px;max-width: 100%;overflow: auto;}#sk-container-id-1 input.sk-toggleable__control:checked~label.sk-toggleable__label-arrow:before {content: \"▾\";}#sk-container-id-1 div.sk-estimator input.sk-toggleable__control:checked~label.sk-toggleable__label {background-color: #d4ebff;}#sk-container-id-1 div.sk-label input.sk-toggleable__control:checked~label.sk-toggleable__label {background-color: #d4ebff;}#sk-container-id-1 input.sk-hidden--visually {border: 0;clip: rect(1px 1px 1px 1px);clip: rect(1px, 1px, 1px, 1px);height: 1px;margin: -1px;overflow: hidden;padding: 0;position: absolute;width: 1px;}#sk-container-id-1 div.sk-estimator {font-family: monospace;background-color: #f0f8ff;border: 1px dotted black;border-radius: 0.25em;box-sizing: border-box;margin-bottom: 0.5em;}#sk-container-id-1 div.sk-estimator:hover {background-color: #d4ebff;}#sk-container-id-1 div.sk-parallel-item::after {content: \"\";width: 100%;border-bottom: 1px solid gray;flex-grow: 1;}#sk-container-id-1 div.sk-label:hover label.sk-toggleable__label {background-color: #d4ebff;}#sk-container-id-1 div.sk-serial::before {content: \"\";position: absolute;border-left: 1px solid gray;box-sizing: border-box;top: 0;bottom: 0;left: 50%;z-index: 0;}#sk-container-id-1 div.sk-serial {display: flex;flex-direction: column;align-items: center;background-color: white;padding-right: 0.2em;padding-left: 0.2em;position: relative;}#sk-container-id-1 div.sk-item {position: relative;z-index: 1;}#sk-container-id-1 div.sk-parallel {display: flex;align-items: stretch;justify-content: center;background-color: white;position: relative;}#sk-container-id-1 div.sk-item::before, #sk-container-id-1 div.sk-parallel-item::before {content: \"\";position: absolute;border-left: 1px solid gray;box-sizing: border-box;top: 0;bottom: 0;left: 50%;z-index: -1;}#sk-container-id-1 div.sk-parallel-item {display: flex;flex-direction: column;z-index: 1;position: relative;background-color: white;}#sk-container-id-1 div.sk-parallel-item:first-child::after {align-self: flex-end;width: 50%;}#sk-container-id-1 div.sk-parallel-item:last-child::after {align-self: flex-start;width: 50%;}#sk-container-id-1 div.sk-parallel-item:only-child::after {width: 0;}#sk-container-id-1 div.sk-dashed-wrapped {border: 1px dashed gray;margin: 0 0.4em 0.5em 0.4em;box-sizing: border-box;padding-bottom: 0.4em;background-color: white;}#sk-container-id-1 div.sk-label label {font-family: monospace;font-weight: bold;display: inline-block;line-height: 1.2em;}#sk-container-id-1 div.sk-label-container {text-align: center;}#sk-container-id-1 div.sk-container {/* jupyter's `normalize.less` sets `[hidden] { display: none; }` but bootstrap.min.css set `[hidden] { display: none !important; }` so we also need the `!important` here to be able to override the default hidden behavior on the sphinx rendered scikit-learn.org. See: https://github.com/scikit-learn/scikit-learn/issues/21755 */display: inline-block !important;position: relative;}#sk-container-id-1 div.sk-text-repr-fallback {display: none;}</style><div id=\"sk-container-id-1\" class=\"sk-top-container\"><div class=\"sk-text-repr-fallback\"><pre>SVC(random_state=42)</pre><b>In a Jupyter environment, please rerun this cell to show the HTML representation or trust the notebook. <br />On GitHub, the HTML representation is unable to render, please try loading this page with nbviewer.org.</b></div><div class=\"sk-container\" hidden><div class=\"sk-item\"><div class=\"sk-estimator sk-toggleable\"><input class=\"sk-toggleable__control sk-hidden--visually\" id=\"sk-estimator-id-1\" type=\"checkbox\" checked><label for=\"sk-estimator-id-1\" class=\"sk-toggleable__label sk-toggleable__label-arrow\">SVC</label><div class=\"sk-toggleable__content\"><pre>SVC(random_state=42)</pre></div></div></div></div></div>"
     },
     "execution_count": 27,
     "metadata": {},
     "output_type": "execute_result"
    }
   ],
   "source": [
    "# Build\n",
    "\n",
    "from sklearn.svm import SVC\n",
    "\n",
    "clf_svm = SVC(random_state=42)\n",
    "clf_svm.fit(X_train_scaled, y_train)"
   ],
   "metadata": {
    "collapsed": false,
    "ExecuteTime": {
     "end_time": "2024-03-18T22:18:36.354813Z",
     "start_time": "2024-03-18T22:18:33.197396Z"
    }
   },
   "execution_count": 27
  },
  {
   "cell_type": "code",
   "outputs": [
    {
     "data": {
      "text/plain": "<Figure size 640x480 with 2 Axes>",
      "image/png": "[encoded data removed]"
     },
     "metadata": {},
     "output_type": "display_data"
    }
   ],
   "source": [
    "import matplotlib.pyplot as plt\n",
    "from sklearn.metrics import ConfusionMatrixDisplay\n",
    "\n",
    "ConfusionMatrixDisplay.from_estimator(clf_svm, X_test_scaled, y_test)\n",
    "plt.show()"
   ],
   "metadata": {
    "collapsed": false,
    "ExecuteTime": {
     "end_time": "2024-03-18T22:18:49.168555Z",
     "start_time": "2024-03-18T22:18:36.360545Z"
    }
   },
   "execution_count": 28
  },
  {
   "cell_type": "code",
   "outputs": [
    {
     "name": "stdout",
     "output_type": "stream",
     "text": [
      "{'C': 100, 'gamma': 0.1, 'kernel': 'rbf'}\n",
      "0.7363333333333333\n"
     ]
    }
   ],
   "source": [
    "# Optimize parameters with Cross Validation\n",
    "\n",
    "from sklearn.model_selection import GridSearchCV\n",
    "\n",
    "param_grid = [{\n",
    "    'C': [0.5, 1, 10, 100, 1000],\n",
    "    'gamma': ['scale', 1, 0.1, 0.01, 0.001, 0.0001],\n",
    "    'kernel': ['rbf'],\n",
    "}]\n",
    "\n",
    "optimal_params = GridSearchCV(\n",
    "    SVC(),\n",
    "    param_grid=param_grid,\n",
    "    cv=5,\n",
    "    scoring='accuracy',\n",
    "    verbose=0\n",
    ")\n",
    "\n",
    "optimal_params.fit(X_train_scaled, y_train)\n",
    "print(optimal_params.best_params_)\n",
    "print(optimal_params.best_score_)"
   ],
   "metadata": {
    "collapsed": false,
    "ExecuteTime": {
     "end_time": "2024-03-18T22:33:47.145524Z",
     "start_time": "2024-03-18T22:18:49.171558Z"
    }
   },
   "execution_count": 29
  },
  {
   "cell_type": "code",
   "outputs": [
    {
     "data": {
      "text/plain": "<Figure size 640x480 with 2 Axes>",
      "image/png": "[encoded data removed]"
     },
     "metadata": {},
     "output_type": "display_data"
    }
   ],
   "source": [
    "clf_svm = SVC(random_state=42, C=100, gamma=0.1, kernel='rbf')\n",
    "clf_svm.fit(X_train_scaled, y_train)\n",
    "\n",
    "ConfusionMatrixDisplay.from_estimator(clf_svm, X_test_scaled, y_test)\n",
    "plt.show()"
   ],
   "metadata": {
    "collapsed": false,
    "ExecuteTime": {
     "end_time": "2024-03-18T22:37:59.117239Z",
     "start_time": "2024-03-18T22:37:47.426157Z"
    }
   },
   "execution_count": 30
  }
 ],
 "metadata": {
  "kernelspec": {
   "display_name": "Python 3",
   "language": "python",
   "name": "python3"
  },
  "language_info": {
   "codemirror_mode": {
    "name": "ipython",
    "version": 2
   },
   "file_extension": ".py",
   "mimetype": "text/x-python",
   "name": "python",
   "nbconvert_exporter": "python",
   "pygments_lexer": "ipython2",
   "version": "2.7.6"
  }
 },
 "nbformat": 4,
 "nbformat_minor": 0
}
